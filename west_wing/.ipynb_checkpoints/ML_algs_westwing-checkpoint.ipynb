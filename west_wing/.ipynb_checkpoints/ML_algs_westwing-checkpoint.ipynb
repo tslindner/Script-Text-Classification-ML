{
 "cells": [
  {
   "cell_type": "code",
   "execution_count": 40,
   "metadata": {},
   "outputs": [],
   "source": [
    "import pandas as pd\n",
    "import numpy as np\n",
    "import nltk\n",
    "\n",
    "\n",
    "from sklearn import svm\n",
    "from sklearn.model_selection import train_test_split\n",
    "from sklearn.feature_extraction.text import CountVectorizer\n",
    "from sklearn.feature_extraction.text import TfidfTransformer\n",
    "from sklearn.naive_bayes import MultinomialNB\n",
    "from sklearn.pipeline import Pipeline\n",
    "from sklearn.linear_model import SGDClassifier\n",
    "from sklearn.model_selection import GridSearchCV\n",
    "from sklearn.pipeline import Pipeline\n",
    "from sklearn.ensemble import RandomForestClassifier\n",
    "from sklearn.linear_model import LogisticRegression\n",
    "\n"
   ]
  },
  {
   "cell_type": "code",
   "execution_count": 119,
   "metadata": {},
   "outputs": [
    {
     "data": {
      "text/html": [
       "<div>\n",
       "<style scoped>\n",
       "    .dataframe tbody tr th:only-of-type {\n",
       "        vertical-align: middle;\n",
       "    }\n",
       "\n",
       "    .dataframe tbody tr th {\n",
       "        vertical-align: top;\n",
       "    }\n",
       "\n",
       "    .dataframe thead th {\n",
       "        text-align: right;\n",
       "    }\n",
       "</style>\n",
       "<table border=\"1\" class=\"dataframe\">\n",
       "  <thead>\n",
       "    <tr style=\"text-align: right;\">\n",
       "      <th></th>\n",
       "      <th>Characters</th>\n",
       "      <th>Quotes</th>\n",
       "    </tr>\n",
       "  </thead>\n",
       "  <tbody>\n",
       "    <tr>\n",
       "      <th>0</th>\n",
       "      <td>josh</td>\n",
       "      <td>Yeah. This is Josh Lyman. What’s going on?</td>\n",
       "    </tr>\n",
       "    <tr>\n",
       "      <th>1</th>\n",
       "      <td>toby</td>\n",
       "      <td>You know when you guys say that, it sounds rid...</td>\n",
       "    </tr>\n",
       "    <tr>\n",
       "      <th>2</th>\n",
       "      <td>toby</td>\n",
       "      <td>We’re flying in a Lockheed eagle series L-1011...</td>\n",
       "    </tr>\n",
       "  </tbody>\n",
       "</table>\n",
       "</div>"
      ],
      "text/plain": [
       "  Characters                                             Quotes\n",
       "0       josh         Yeah. This is Josh Lyman. What’s going on?\n",
       "1       toby  You know when you guys say that, it sounds rid...\n",
       "2       toby  We’re flying in a Lockheed eagle series L-1011..."
      ]
     },
     "execution_count": 119,
     "metadata": {},
     "output_type": "execute_result"
    }
   ],
   "source": [
    "df = pd.read_csv('4ch_west_wing_masked.csv')\n",
    "del df[\"Unnamed: 0\"]\n",
    "\n",
    "df.head(3)"
   ]
  },
  {
   "cell_type": "code",
   "execution_count": null,
   "metadata": {},
   "outputs": [],
   "source": []
  },
  {
   "cell_type": "code",
   "execution_count": 29,
   "metadata": {},
   "outputs": [],
   "source": [
    "df = df.sort_values(\"Characters\")"
   ]
  },
  {
   "cell_type": "code",
   "execution_count": 108,
   "metadata": {},
   "outputs": [],
   "source": [
    "def corpus_builder(dataframe):\n",
    "    \n",
    "    num_of_char = len(dataframe[\"Characters\"].unique())\n",
    "    \n",
    "    X = df[\"Quotes\"].values.astype('U')\n",
    "    y = df[\"Characters\"].values.astype('U')\n",
    "    \n",
    "    X_train, X_test, y_train, y_test = train_test_split(X, y, random_state=4)\n",
    "    \n",
    "    df_train = pd.DataFrame({\"Quotes\" : X_train, \"Characters\" : y_train})\n",
    "    df_test = pd.DataFrame({\"Quotes\" : X_test, \"Characters\" : y_test})\n",
    "    \n",
    "    \n",
    "    \n",
    "    corpi_train_quotes = []\n",
    "    corpi_train_chars = []\n",
    "\n",
    "    corpi_test_quotes = []\n",
    "    corpi_test_chars = []\n",
    "\n",
    "    \n",
    "    \n",
    "    for i in range(num_of_char):\n",
    "        loop_char = dataframe[\"Characters\"].unique()[i]\n",
    "        corpi_train_chars.append(loop_char)\n",
    "        corpi_test_chars.append(loop_char)\n",
    "        \n",
    "        loop_corpus_train = df_train.loc[df_train.Characters == loop_char]\n",
    "        loop_corpus_test = df_test[df.Characters == loop_char]\n",
    "        \n",
    "        loop_corpi_train_list = []\n",
    "        loop_corpi_test_list = []\n",
    "\n",
    "        \n",
    "        for j in loop_corpus_train[\"Quotes\"]:\n",
    "            loop_corpi_train_list.append(j)\n",
    "            \n",
    "        for k in loop_corpus_test[\"Quotes\"]:\n",
    "            loop_corpi_test_list.append(k)\n",
    "            \n",
    "        loop_corpus_train = \" \".join(loop_corpi_train_list)\n",
    "        loop_corpus_test = \" \".join(loop_corpi_test_list)\n",
    "        \n",
    "        corpi_train_quotes.append(loop_corpus_train)\n",
    "        corpi_test_quotes.append(loop_corpus_test)\n",
    "        \n",
    "    corpi_train_quotes = np.asarray(corpi_train_quotes)\n",
    "    corpi_train_chars = np.asarray(corpi_train_chars)\n",
    "    corpi_test_quotes = np.asarray(corpi_test_quotes)\n",
    "    corpi_test_chars = np.asarray(corpi_test_chars)\n",
    "        \n",
    "    \n",
    "    return corpi_train_quotes, corpi_train_chars, corpi_test_quotes, corpi_test_chars"
   ]
  },
  {
   "cell_type": "code",
   "execution_count": 109,
   "metadata": {},
   "outputs": [
    {
     "name": "stderr",
     "output_type": "stream",
     "text": [
      "C:\\Users\\timot\\Anaconda3\\envs\\PythonData\\lib\\site-packages\\ipykernel_launcher.py:29: UserWarning: Boolean Series key will be reindexed to match DataFrame index.\n"
     ]
    }
   ],
   "source": [
    "X_train, y_train, X_test, y_test = corpus_builder(df)"
   ]
  },
  {
   "cell_type": "code",
   "execution_count": 120,
   "metadata": {},
   "outputs": [
    {
     "name": "stdout",
     "output_type": "stream",
     "text": [
      "(16061,) (16061,)\n"
     ]
    }
   ],
   "source": [
    "X = df[\"Quotes\"].values.astype('U')\n",
    "y = df[\"Characters\"].values.astype('U')\n",
    "print(X.shape, y.shape)"
   ]
  },
  {
   "cell_type": "code",
   "execution_count": 121,
   "metadata": {},
   "outputs": [],
   "source": [
    "X_train, X_test, y_train, y_test = train_test_split(X, y, random_state=42)"
   ]
  },
  {
   "cell_type": "code",
   "execution_count": 122,
   "metadata": {},
   "outputs": [
    {
     "data": {
      "text/plain": [
       "array([\"Well, there aren't going to be any people today. \",\n",
       "       \"Well, I don't approve of that.\",\n",
       "       'Speaking of classic conundrums...', ...,\n",
       "       'How about we build the nine best schools in the world?',\n",
       "       'Thank you. Is the pastrami from Krupins?',\n",
       "       'It’s activist vacation is what it is. Spring break for anarchist wannabes. The black  t-shirts, the gas masks as fashion accessories. '],\n",
       "      dtype='<U1597')"
      ]
     },
     "execution_count": 122,
     "metadata": {},
     "output_type": "execute_result"
    }
   ],
   "source": [
    "X_train"
   ]
  },
  {
   "cell_type": "code",
   "execution_count": 123,
   "metadata": {},
   "outputs": [
    {
     "data": {
      "text/plain": [
       "array(['bartlet', 'bartlet', 'c.j.', ..., 'c.j.', 'bartlet', 'toby'],\n",
       "      dtype='<U7')"
      ]
     },
     "execution_count": 123,
     "metadata": {},
     "output_type": "execute_result"
    }
   ],
   "source": [
    "y_train"
   ]
  },
  {
   "cell_type": "code",
   "execution_count": 124,
   "metadata": {},
   "outputs": [
    {
     "data": {
      "text/plain": [
       "0.39193227091633465"
      ]
     },
     "execution_count": 124,
     "metadata": {},
     "output_type": "execute_result"
    }
   ],
   "source": [
    "#  Naive Bayesian\n",
    "text_clf = Pipeline([('vect', CountVectorizer(stop_words=\"english\")), ('tfidf', TfidfTransformer()), ('clf', MultinomialNB())])\n",
    "\n",
    "text_clf = text_clf.fit(X_train, y_train)\n",
    "predicted = text_clf.predict(X_test)\n",
    "np.mean(predicted == y_test)"
   ]
  },
  {
   "cell_type": "code",
   "execution_count": 125,
   "metadata": {},
   "outputs": [
    {
     "name": "stderr",
     "output_type": "stream",
     "text": [
      "C:\\Users\\timot\\Anaconda3\\envs\\PythonData\\lib\\site-packages\\sklearn\\linear_model\\stochastic_gradient.py:117: DeprecationWarning: n_iter parameter is deprecated in 0.19 and will be removed in 0.21. Use max_iter and tol instead.\n",
      "  DeprecationWarning)\n"
     ]
    },
    {
     "data": {
      "text/plain": [
       "0.386703187250996"
      ]
     },
     "execution_count": 125,
     "metadata": {},
     "output_type": "execute_result"
    }
   ],
   "source": [
    "#  SGD-SVM\n",
    "text_clf_svm = Pipeline([('vect', CountVectorizer(stop_words=\"english\")), ('tfidf', TfidfTransformer()),\n",
    "                         ('clf-svm', SGDClassifier(loss='hinge', penalty='l2',alpha=1e-3, n_iter=5, random_state=42))])\n",
    "\n",
    "text_clf_svm = text_clf_svm.fit(X_train, y_train)\n",
    "predicted_svm = text_clf_svm.predict(X_test)\n",
    "np.mean(predicted_svm == y_test)"
   ]
  },
  {
   "cell_type": "code",
   "execution_count": 128,
   "metadata": {},
   "outputs": [
    {
     "data": {
      "text/plain": [
       "0.33117529880478086"
      ]
     },
     "execution_count": 128,
     "metadata": {},
     "output_type": "execute_result"
    }
   ],
   "source": [
    "# Random Forest\n",
    "text_clf_RanFor = Pipeline([('vect', CountVectorizer(ngram_range=(1, 1))), ('tfidf', TfidfTransformer(use_idf=True)),\n",
    "                         ('clf-RanFor', RandomForestClassifier(n_estimators=10))])\n",
    "\n",
    "text_clf_RanFor = text_clf_RanFor.fit(X_train, y_train)\n",
    "predicted_RanFor = text_clf_RanFor.predict(X_test)\n",
    "np.mean(predicted_RanFor == y_test)"
   ]
  },
  {
   "cell_type": "code",
   "execution_count": 129,
   "metadata": {},
   "outputs": [
    {
     "data": {
      "text/plain": [
       "0.3881972111553785"
      ]
     },
     "execution_count": 129,
     "metadata": {},
     "output_type": "execute_result"
    }
   ],
   "source": [
    "# Log regression\n",
    "text_clf_LogReg = Pipeline([('vect', CountVectorizer(ngram_range=(1, 1))), ('tfidf', TfidfTransformer(use_idf=True)),\n",
    "                         ('clf-RanFor', LogisticRegression())])\n",
    "\n",
    "text_clf_LogReg = text_clf_LogReg.fit(X_train, y_train)\n",
    "predicted_LogReg = text_clf_LogReg.predict(X_test)\n",
    "np.mean(predicted_LogReg == y_test)"
   ]
  },
  {
   "cell_type": "code",
   "execution_count": null,
   "metadata": {},
   "outputs": [],
   "source": []
  },
  {
   "cell_type": "code",
   "execution_count": null,
   "metadata": {},
   "outputs": [],
   "source": []
  },
  {
   "cell_type": "code",
   "execution_count": 133,
   "metadata": {},
   "outputs": [
    {
     "name": "stdout",
     "output_type": "stream",
     "text": [
      "0.3817351598173516\n",
      "{'clf__alpha': 0.01, 'tfidf__use_idf': False, 'vect__ngram_range': (1, 4)}\n"
     ]
    }
   ],
   "source": [
    "parameters = {'vect__ngram_range': [(1, 1), (1, 2), (1, 3), (1, 4), (1, 5)], 'tfidf__use_idf': (True, False), 'clf__alpha': (1e-2, 1e-3)}\n",
    "\n",
    "gs_clf = GridSearchCV(text_clf, parameters, n_jobs=-1)\n",
    "gs_clf = gs_clf.fit(X_train, y_train)\n",
    "\n",
    "print(gs_clf.best_score_)\n",
    "print(gs_clf.best_params_)"
   ]
  },
  {
   "cell_type": "code",
   "execution_count": 131,
   "metadata": {},
   "outputs": [
    {
     "name": "stdout",
     "output_type": "stream",
     "text": [
      "0.3878787878787879\n",
      "{'clf-svm__alpha': 0.01, 'tfidf__use_idf': True, 'vect__ngram_range': (1, 2)}\n"
     ]
    },
    {
     "name": "stderr",
     "output_type": "stream",
     "text": [
      "C:\\Users\\timot\\Anaconda3\\envs\\PythonData\\lib\\site-packages\\sklearn\\linear_model\\stochastic_gradient.py:117: DeprecationWarning: n_iter parameter is deprecated in 0.19 and will be removed in 0.21. Use max_iter and tol instead.\n",
      "  DeprecationWarning)\n"
     ]
    }
   ],
   "source": [
    "parameters_svm = {'vect__ngram_range': [(1, 1), (1, 2), (1, 3), (1, 4), (1, 5)], 'tfidf__use_idf': (True, False),'clf-svm__alpha': (1e-2, 1e-3)}\n",
    "\n",
    "gs_clf_svm = GridSearchCV(text_clf_svm, parameters_svm, n_jobs=-1)\n",
    "gs_clf_svm = gs_clf_svm.fit(X_train, y_train)\n",
    "\n",
    "\n",
    "print(gs_clf_svm.best_score_)\n",
    "print(gs_clf_svm.best_params_)"
   ]
  },
  {
   "cell_type": "code",
   "execution_count": null,
   "metadata": {},
   "outputs": [],
   "source": []
  },
  {
   "cell_type": "code",
   "execution_count": 132,
   "metadata": {},
   "outputs": [
    {
     "name": "stderr",
     "output_type": "stream",
     "text": [
      "C:\\Users\\timot\\Anaconda3\\envs\\PythonData\\lib\\site-packages\\sklearn\\linear_model\\stochastic_gradient.py:117: DeprecationWarning: n_iter parameter is deprecated in 0.19 and will be removed in 0.21. Use max_iter and tol instead.\n",
      "  DeprecationWarning)\n"
     ]
    },
    {
     "data": {
      "text/plain": [
       "0.40039840637450197"
      ]
     },
     "execution_count": 132,
     "metadata": {},
     "output_type": "execute_result"
    }
   ],
   "source": [
    "# Parameter-adjusted SDG-SVM\n",
    "text_clf_svm = Pipeline([('vect', CountVectorizer(ngram_range=(1, 2))), ('tfidf', TfidfTransformer(use_idf=True)),\n",
    "                         ('clf-svm', SGDClassifier(loss='hinge', penalty='l2',alpha=.001, n_iter=4, random_state=42))])\n",
    "\n",
    "text_clf_svm = text_clf_svm.fit(X_train, y_train)\n",
    "predicted_svm = text_clf_svm.predict(X_test)\n",
    "np.mean(predicted_svm == y_test)"
   ]
  },
  {
   "cell_type": "code",
   "execution_count": 17,
   "metadata": {},
   "outputs": [
    {
     "data": {
      "text/html": [
       "<div>\n",
       "<style scoped>\n",
       "    .dataframe tbody tr th:only-of-type {\n",
       "        vertical-align: middle;\n",
       "    }\n",
       "\n",
       "    .dataframe tbody tr th {\n",
       "        vertical-align: top;\n",
       "    }\n",
       "\n",
       "    .dataframe thead th {\n",
       "        text-align: right;\n",
       "    }\n",
       "</style>\n",
       "<table border=\"1\" class=\"dataframe\">\n",
       "  <thead>\n",
       "    <tr style=\"text-align: right;\">\n",
       "      <th></th>\n",
       "      <th>Characters</th>\n",
       "      <th>Quotes</th>\n",
       "    </tr>\n",
       "  </thead>\n",
       "  <tbody>\n",
       "    <tr>\n",
       "      <th>21739</th>\n",
       "      <td>bartlet</td>\n",
       "      <td>Get in the car.</td>\n",
       "    </tr>\n",
       "    <tr>\n",
       "      <th>21506</th>\n",
       "      <td>bartlet</td>\n",
       "      <td>That's why you want to say no?</td>\n",
       "    </tr>\n",
       "    <tr>\n",
       "      <th>21505</th>\n",
       "      <td>bartlet</td>\n",
       "      <td>I'd argue he's not a civilian. So would the At...</td>\n",
       "    </tr>\n",
       "    <tr>\n",
       "      <th>21504</th>\n",
       "      <td>bartlet</td>\n",
       "      <td>Do you not consider it relevant that it would ...</td>\n",
       "    </tr>\n",
       "    <tr>\n",
       "      <th>8747</th>\n",
       "      <td>bartlet</td>\n",
       "      <td>I imagine he’ll be along in a moment.</td>\n",
       "    </tr>\n",
       "    <tr>\n",
       "      <th>8748</th>\n",
       "      <td>bartlet</td>\n",
       "      <td>Oh, yes.</td>\n",
       "    </tr>\n",
       "    <tr>\n",
       "      <th>8749</th>\n",
       "      <td>bartlet</td>\n",
       "      <td>Good afternoon, Mrs. Landingham.</td>\n",
       "    </tr>\n",
       "    <tr>\n",
       "      <th>8750</th>\n",
       "      <td>bartlet</td>\n",
       "      <td>Go away right now.</td>\n",
       "    </tr>\n",
       "    <tr>\n",
       "      <th>8751</th>\n",
       "      <td>bartlet</td>\n",
       "      <td>Why don’t we go inside?</td>\n",
       "    </tr>\n",
       "    <tr>\n",
       "      <th>8752</th>\n",
       "      <td>bartlet</td>\n",
       "      <td>Blood Pressure 120/80.</td>\n",
       "    </tr>\n",
       "    <tr>\n",
       "      <th>8753</th>\n",
       "      <td>bartlet</td>\n",
       "      <td>Not here, Jed!</td>\n",
       "    </tr>\n",
       "    <tr>\n",
       "      <th>8754</th>\n",
       "      <td>bartlet</td>\n",
       "      <td>How about our bedroom?</td>\n",
       "    </tr>\n",
       "    <tr>\n",
       "      <th>8755</th>\n",
       "      <td>bartlet</td>\n",
       "      <td>How about our bedroom in the residence?</td>\n",
       "    </tr>\n",
       "    <tr>\n",
       "      <th>8756</th>\n",
       "      <td>bartlet</td>\n",
       "      <td>Yes.</td>\n",
       "    </tr>\n",
       "    <tr>\n",
       "      <th>8757</th>\n",
       "      <td>bartlet</td>\n",
       "      <td>Jed!</td>\n",
       "    </tr>\n",
       "    <tr>\n",
       "      <th>8758</th>\n",
       "      <td>bartlet</td>\n",
       "      <td>Korea? Plutonium?</td>\n",
       "    </tr>\n",
       "    <tr>\n",
       "      <th>21507</th>\n",
       "      <td>bartlet</td>\n",
       "      <td>That can't happen.</td>\n",
       "    </tr>\n",
       "    <tr>\n",
       "      <th>21508</th>\n",
       "      <td>bartlet</td>\n",
       "      <td>I was talking this morning about how Mallory n...</td>\n",
       "    </tr>\n",
       "    <tr>\n",
       "      <th>21509</th>\n",
       "      <td>bartlet</td>\n",
       "      <td>Would it be helpful if I brought you a list of...</td>\n",
       "    </tr>\n",
       "    <tr>\n",
       "      <th>21510</th>\n",
       "      <td>bartlet</td>\n",
       "      <td>Who was the monk who wrote, \"I always don't kn...</td>\n",
       "    </tr>\n",
       "    <tr>\n",
       "      <th>21521</th>\n",
       "      <td>bartlet</td>\n",
       "      <td>Yeah, I know. Listen, politics aside, and I do...</td>\n",
       "    </tr>\n",
       "    <tr>\n",
       "      <th>21520</th>\n",
       "      <td>bartlet</td>\n",
       "      <td>I am. How about you?</td>\n",
       "    </tr>\n",
       "    <tr>\n",
       "      <th>21519</th>\n",
       "      <td>bartlet</td>\n",
       "      <td>Governor.</td>\n",
       "    </tr>\n",
       "    <tr>\n",
       "      <th>21518</th>\n",
       "      <td>bartlet</td>\n",
       "      <td>Caught me.</td>\n",
       "    </tr>\n",
       "    <tr>\n",
       "      <th>21517</th>\n",
       "      <td>bartlet</td>\n",
       "      <td>Take him.</td>\n",
       "    </tr>\n",
       "    <tr>\n",
       "      <th>8718</th>\n",
       "      <td>bartlet</td>\n",
       "      <td>I thought it went pretty well.</td>\n",
       "    </tr>\n",
       "    <tr>\n",
       "      <th>8719</th>\n",
       "      <td>bartlet</td>\n",
       "      <td>Oh, dear God.</td>\n",
       "    </tr>\n",
       "    <tr>\n",
       "      <th>8759</th>\n",
       "      <td>bartlet</td>\n",
       "      <td>We have to find time before six.</td>\n",
       "    </tr>\n",
       "    <tr>\n",
       "      <th>8720</th>\n",
       "      <td>bartlet</td>\n",
       "      <td>I had it!</td>\n",
       "    </tr>\n",
       "    <tr>\n",
       "      <th>8722</th>\n",
       "      <td>bartlet</td>\n",
       "      <td>And we will, Lionel, but right now I don't kno...</td>\n",
       "    </tr>\n",
       "    <tr>\n",
       "      <th>...</th>\n",
       "      <td>...</td>\n",
       "      <td>...</td>\n",
       "    </tr>\n",
       "    <tr>\n",
       "      <th>6714</th>\n",
       "      <td>toby</td>\n",
       "      <td>Yes.</td>\n",
       "    </tr>\n",
       "    <tr>\n",
       "      <th>6715</th>\n",
       "      <td>toby</td>\n",
       "      <td>There are restaurants, you know, indoors, with...</td>\n",
       "    </tr>\n",
       "    <tr>\n",
       "      <th>6679</th>\n",
       "      <td>toby</td>\n",
       "      <td>Al!</td>\n",
       "    </tr>\n",
       "    <tr>\n",
       "      <th>13127</th>\n",
       "      <td>toby</td>\n",
       "      <td>No.</td>\n",
       "    </tr>\n",
       "    <tr>\n",
       "      <th>18724</th>\n",
       "      <td>toby</td>\n",
       "      <td>No.</td>\n",
       "    </tr>\n",
       "    <tr>\n",
       "      <th>13128</th>\n",
       "      <td>toby</td>\n",
       "      <td>Mr. Vice President?</td>\n",
       "    </tr>\n",
       "    <tr>\n",
       "      <th>22596</th>\n",
       "      <td>toby</td>\n",
       "      <td>But you want to.</td>\n",
       "    </tr>\n",
       "    <tr>\n",
       "      <th>22595</th>\n",
       "      <td>toby</td>\n",
       "      <td>I think you're getting back together.</td>\n",
       "    </tr>\n",
       "    <tr>\n",
       "      <th>22594</th>\n",
       "      <td>toby</td>\n",
       "      <td>I think you're wrong.</td>\n",
       "    </tr>\n",
       "    <tr>\n",
       "      <th>22593</th>\n",
       "      <td>toby</td>\n",
       "      <td>Yeah. (to Toby) What's going on with you and A...</td>\n",
       "    </tr>\n",
       "    <tr>\n",
       "      <th>13139</th>\n",
       "      <td>toby</td>\n",
       "      <td>What’s going on?</td>\n",
       "    </tr>\n",
       "    <tr>\n",
       "      <th>22591</th>\n",
       "      <td>toby</td>\n",
       "      <td>You want to shoot for two minutes? There's a h...</td>\n",
       "    </tr>\n",
       "    <tr>\n",
       "      <th>22590</th>\n",
       "      <td>toby</td>\n",
       "      <td>Yes, well...</td>\n",
       "    </tr>\n",
       "    <tr>\n",
       "      <th>22589</th>\n",
       "      <td>toby</td>\n",
       "      <td>May I ask why?</td>\n",
       "    </tr>\n",
       "    <tr>\n",
       "      <th>22588</th>\n",
       "      <td>toby</td>\n",
       "      <td>See, by my count, you said under no circumstan...</td>\n",
       "    </tr>\n",
       "    <tr>\n",
       "      <th>22587</th>\n",
       "      <td>toby</td>\n",
       "      <td>A couple of things. I need you to look at a co...</td>\n",
       "    </tr>\n",
       "    <tr>\n",
       "      <th>18710</th>\n",
       "      <td>toby</td>\n",
       "      <td>Yeah.</td>\n",
       "    </tr>\n",
       "    <tr>\n",
       "      <th>22586</th>\n",
       "      <td>toby</td>\n",
       "      <td>Andy...</td>\n",
       "    </tr>\n",
       "    <tr>\n",
       "      <th>18712</th>\n",
       "      <td>toby</td>\n",
       "      <td>Why?</td>\n",
       "    </tr>\n",
       "    <tr>\n",
       "      <th>13138</th>\n",
       "      <td>toby</td>\n",
       "      <td>Hey, I didn’t know you were still here.</td>\n",
       "    </tr>\n",
       "    <tr>\n",
       "      <th>18714</th>\n",
       "      <td>toby</td>\n",
       "      <td>Well, that's some good news, I guess.</td>\n",
       "    </tr>\n",
       "    <tr>\n",
       "      <th>13137</th>\n",
       "      <td>toby</td>\n",
       "      <td>Trust me just this once, you grouchy old son o...</td>\n",
       "    </tr>\n",
       "    <tr>\n",
       "      <th>13132</th>\n",
       "      <td>toby</td>\n",
       "      <td>A significant number of people are concerned o...</td>\n",
       "    </tr>\n",
       "    <tr>\n",
       "      <th>13131</th>\n",
       "      <td>toby</td>\n",
       "      <td>So I got ahold of some private polling you've ...</td>\n",
       "    </tr>\n",
       "    <tr>\n",
       "      <th>13130</th>\n",
       "      <td>toby</td>\n",
       "      <td>I'm sure you know I was curious about why you'...</td>\n",
       "    </tr>\n",
       "    <tr>\n",
       "      <th>18720</th>\n",
       "      <td>toby</td>\n",
       "      <td>What's going on? What was that phone call?</td>\n",
       "    </tr>\n",
       "    <tr>\n",
       "      <th>13129</th>\n",
       "      <td>toby</td>\n",
       "      <td>No, sir, you did it very well. I appreciate it.</td>\n",
       "    </tr>\n",
       "    <tr>\n",
       "      <th>18722</th>\n",
       "      <td>toby</td>\n",
       "      <td>Not at all well. You know whose fault that is?</td>\n",
       "    </tr>\n",
       "    <tr>\n",
       "      <th>22585</th>\n",
       "      <td>toby</td>\n",
       "      <td>Thank you.</td>\n",
       "    </tr>\n",
       "    <tr>\n",
       "      <th>16473</th>\n",
       "      <td>toby</td>\n",
       "      <td>Maybe he wants the compromise back on the table.</td>\n",
       "    </tr>\n",
       "  </tbody>\n",
       "</table>\n",
       "<p>27220 rows × 2 columns</p>\n",
       "</div>"
      ],
      "text/plain": [
       "      Characters                                             Quotes\n",
       "21739    bartlet                                    Get in the car.\n",
       "21506    bartlet                     That's why you want to say no?\n",
       "21505    bartlet  I'd argue he's not a civilian. So would the At...\n",
       "21504    bartlet  Do you not consider it relevant that it would ...\n",
       "8747     bartlet              I imagine he’ll be along in a moment.\n",
       "8748     bartlet                                          Oh, yes. \n",
       "8749     bartlet                   Good afternoon, Mrs. Landingham.\n",
       "8750     bartlet                                Go away right now. \n",
       "8751     bartlet                            Why don’t we go inside?\n",
       "8752     bartlet                             Blood Pressure 120/80.\n",
       "8753     bartlet                                     Not here, Jed!\n",
       "8754     bartlet                             How about our bedroom?\n",
       "8755     bartlet            How about our bedroom in the residence?\n",
       "8756     bartlet                                               Yes.\n",
       "8757     bartlet                                               Jed!\n",
       "8758     bartlet                                  Korea? Plutonium?\n",
       "21507    bartlet                                 That can't happen.\n",
       "21508    bartlet  I was talking this morning about how Mallory n...\n",
       "21509    bartlet  Would it be helpful if I brought you a list of...\n",
       "21510    bartlet  Who was the monk who wrote, \"I always don't kn...\n",
       "21521    bartlet  Yeah, I know. Listen, politics aside, and I do...\n",
       "21520    bartlet                               I am. How about you?\n",
       "21519    bartlet                                          Governor.\n",
       "21518    bartlet                                         Caught me.\n",
       "21517    bartlet                                          Take him.\n",
       "8718     bartlet                     I thought it went pretty well.\n",
       "8719     bartlet                                      Oh, dear God.\n",
       "8759     bartlet                   We have to find time before six.\n",
       "8720     bartlet                                          I had it!\n",
       "8722     bartlet  And we will, Lionel, but right now I don't kno...\n",
       "...          ...                                                ...\n",
       "6714        toby                                              Yes. \n",
       "6715        toby  There are restaurants, you know, indoors, with...\n",
       "6679        toby                                               Al! \n",
       "13127       toby                                                No.\n",
       "18724       toby                                                No.\n",
       "13128       toby                                Mr. Vice President?\n",
       "22596       toby                                   But you want to.\n",
       "22595       toby              I think you're getting back together.\n",
       "22594       toby                              I think you're wrong.\n",
       "22593       toby  Yeah. (to Toby) What's going on with you and A...\n",
       "13139       toby                                   What’s going on?\n",
       "22591       toby  You want to shoot for two minutes? There's a h...\n",
       "22590       toby                                       Yes, well...\n",
       "22589       toby                                     May I ask why?\n",
       "22588       toby  See, by my count, you said under no circumstan...\n",
       "22587       toby  A couple of things. I need you to look at a co...\n",
       "18710       toby                                              Yeah.\n",
       "22586       toby                                            Andy...\n",
       "18712       toby                                               Why?\n",
       "13138       toby            Hey, I didn’t know you were still here.\n",
       "18714       toby              Well, that's some good news, I guess.\n",
       "13137       toby  Trust me just this once, you grouchy old son o...\n",
       "13132       toby  A significant number of people are concerned o...\n",
       "13131       toby  So I got ahold of some private polling you've ...\n",
       "13130       toby  I'm sure you know I was curious about why you'...\n",
       "18720       toby         What's going on? What was that phone call?\n",
       "13129       toby    No, sir, you did it very well. I appreciate it.\n",
       "18722       toby     Not at all well. You know whose fault that is?\n",
       "22585       toby                                        Thank you. \n",
       "16473       toby   Maybe he wants the compromise back on the table.\n",
       "\n",
       "[27220 rows x 2 columns]"
      ]
     },
     "execution_count": 17,
     "metadata": {},
     "output_type": "execute_result"
    }
   ],
   "source": [
    "df"
   ]
  },
  {
   "cell_type": "code",
   "execution_count": null,
   "metadata": {},
   "outputs": [],
   "source": []
  },
  {
   "cell_type": "code",
   "execution_count": null,
   "metadata": {},
   "outputs": [],
   "source": []
  }
 ],
 "metadata": {
  "kernelspec": {
   "display_name": "Python 3",
   "language": "python",
   "name": "python3"
  },
  "language_info": {
   "codemirror_mode": {
    "name": "ipython",
    "version": 3
   },
   "file_extension": ".py",
   "mimetype": "text/x-python",
   "name": "python",
   "nbconvert_exporter": "python",
   "pygments_lexer": "ipython3",
   "version": "3.6.4"
  }
 },
 "nbformat": 4,
 "nbformat_minor": 2
}
