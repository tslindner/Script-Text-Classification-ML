{
 "cells": [
  {
   "cell_type": "code",
   "execution_count": 1,
   "metadata": {},
   "outputs": [],
   "source": [
    "import pandas as pd\n",
    "import numpy as np\n",
    "import nltk\n",
    "\n",
    "\n",
    "from sklearn import svm\n",
    "from sklearn.model_selection import train_test_split\n",
    "from sklearn.feature_extraction.text import CountVectorizer\n",
    "from sklearn.feature_extraction.text import TfidfTransformer\n",
    "from sklearn.naive_bayes import MultinomialNB\n",
    "from sklearn.pipeline import Pipeline\n",
    "from sklearn.linear_model import SGDClassifier\n",
    "from sklearn.model_selection import GridSearchCV\n",
    "from sklearn.pipeline import Pipeline\n",
    "from sklearn.ensemble import RandomForestClassifier\n",
    "from sklearn.linear_model import LogisticRegression\n",
    "\n"
   ]
  },
  {
   "cell_type": "code",
   "execution_count": 14,
   "metadata": {},
   "outputs": [
    {
     "data": {
      "text/html": [
       "<div>\n",
       "<style scoped>\n",
       "    .dataframe tbody tr th:only-of-type {\n",
       "        vertical-align: middle;\n",
       "    }\n",
       "\n",
       "    .dataframe tbody tr th {\n",
       "        vertical-align: top;\n",
       "    }\n",
       "\n",
       "    .dataframe thead th {\n",
       "        text-align: right;\n",
       "    }\n",
       "</style>\n",
       "<table border=\"1\" class=\"dataframe\">\n",
       "  <thead>\n",
       "    <tr style=\"text-align: right;\">\n",
       "      <th></th>\n",
       "      <th>Characters</th>\n",
       "      <th>Quotes</th>\n",
       "    </tr>\n",
       "  </thead>\n",
       "  <tbody>\n",
       "    <tr>\n",
       "      <th>0</th>\n",
       "      <td>homer</td>\n",
       "      <td>baaart, i'm gonna open my mouth and close my e...</td>\n",
       "    </tr>\n",
       "    <tr>\n",
       "      <th>1</th>\n",
       "      <td>bart</td>\n",
       "      <td>nobody better lay a finger on my butterfinger.</td>\n",
       "    </tr>\n",
       "    <tr>\n",
       "      <th>2</th>\n",
       "      <td>homer</td>\n",
       "      <td>what happened to the lights?</td>\n",
       "    </tr>\n",
       "  </tbody>\n",
       "</table>\n",
       "</div>"
      ],
      "text/plain": [
       "  Characters                                             Quotes\n",
       "0      homer  baaart, i'm gonna open my mouth and close my e...\n",
       "1       bart     nobody better lay a finger on my butterfinger.\n",
       "2      homer                       what happened to the lights?"
      ]
     },
     "execution_count": 14,
     "metadata": {},
     "output_type": "execute_result"
    }
   ],
   "source": [
    "df = pd.read_csv('4ch_simpsons.csv')\n",
    "del df[\"Unnamed: 0\"]\n",
    "\n",
    "df.head(3)"
   ]
  },
  {
   "cell_type": "code",
   "execution_count": null,
   "metadata": {},
   "outputs": [],
   "source": []
  },
  {
   "cell_type": "code",
   "execution_count": 132,
   "metadata": {},
   "outputs": [],
   "source": [
    "df = df.sort_values(\"Characters\")"
   ]
  },
  {
   "cell_type": "code",
   "execution_count": 26,
   "metadata": {},
   "outputs": [],
   "source": [
    "def corpus_builder(dataframe):\n",
    "    \n",
    "    num_of_char = len(dataframe[\"Characters\"].unique())\n",
    "    \n",
    "    X = df[\"Quotes\"].values.astype('U')\n",
    "    y = df[\"Characters\"].values.astype('U')\n",
    "    \n",
    "    X_train, X_test, y_train, y_test = train_test_split(X, y, random_state=4)\n",
    "    \n",
    "    df_train = pd.DataFrame({\"Quotes\" : X_train, \"Characters\" : y_train})\n",
    "    df_test = pd.DataFrame({\"Quotes\" : X_test, \"Characters\" : y_test})\n",
    "    \n",
    "    \n",
    "    \n",
    "    corpi_train_quotes = []\n",
    "    corpi_train_chars = []\n",
    "\n",
    "    corpi_test_quotes = []\n",
    "    corpi_test_chars = []\n",
    "\n",
    "    \n",
    "    \n",
    "    for i in range(num_of_char):\n",
    "        loop_char = dataframe[\"Characters\"].unique()[i]\n",
    "        corpi_train_chars.append(loop_char)\n",
    "        corpi_test_chars.append(loop_char)\n",
    "        \n",
    "        loop_corpus_train = df_train.loc[df_train.Characters == loop_char]\n",
    "        loop_corpus_test = df_test[df.Characters == loop_char]\n",
    "        \n",
    "        loop_corpi_train_list = []\n",
    "        loop_corpi_test_list = []\n",
    "\n",
    "        \n",
    "        for j in loop_corpus_train[\"Quotes\"]:\n",
    "            loop_corpi_train_list.append(j)\n",
    "            \n",
    "        for k in loop_corpus_test[\"Quotes\"]:\n",
    "            loop_corpi_test_list.append(k)\n",
    "            \n",
    "        loop_corpus_train = \" \".join(loop_corpi_train_list)\n",
    "        loop_corpus_test = \" \".join(loop_corpi_test_list)\n",
    "        \n",
    "        corpi_train_quotes.append(loop_corpus_train)\n",
    "        corpi_test_quotes.append(loop_corpus_test)\n",
    "        \n",
    "    corpi_train_quotes = np.asarray(corpi_train_quotes)\n",
    "    corpi_train_chars = np.asarray(corpi_train_chars)\n",
    "    corpi_test_quotes = np.asarray(corpi_test_quotes)\n",
    "    corpi_test_chars = np.asarray(corpi_test_chars)\n",
    "        \n",
    "    \n",
    "    return corpi_train_quotes, corpi_train_chars, corpi_test_quotes, corpi_test_chars"
   ]
  },
  {
   "cell_type": "code",
   "execution_count": 27,
   "metadata": {},
   "outputs": [
    {
     "name": "stderr",
     "output_type": "stream",
     "text": [
      "C:\\Users\\timot\\Anaconda3\\envs\\PythonData\\lib\\site-packages\\ipykernel_launcher.py:29: UserWarning: Boolean Series key will be reindexed to match DataFrame index.\n"
     ]
    }
   ],
   "source": [
    "X_train, y_train, X_test, y_test = corpus_builder(df)"
   ]
  },
  {
   "cell_type": "code",
   "execution_count": 35,
   "metadata": {},
   "outputs": [
    {
     "name": "stdout",
     "output_type": "stream",
     "text": [
      "(13783,) (13783,)\n"
     ]
    }
   ],
   "source": [
    "X = df[\"Quotes\"].values.astype('U')\n",
    "y = df[\"Characters\"].values.astype('U')\n",
    "print(X.shape, y.shape)"
   ]
  },
  {
   "cell_type": "code",
   "execution_count": 36,
   "metadata": {},
   "outputs": [],
   "source": [
    "X_train, X_test, y_train, y_test = train_test_split(X, y, random_state=42)"
   ]
  },
  {
   "cell_type": "code",
   "execution_count": 5,
   "metadata": {},
   "outputs": [
    {
     "data": {
      "text/plain": [
       "array([\"dad, you cannot wear that! that's a rastafarian hat.\",\n",
       "       'i need a shirt!  gimmie a shirt!', 'what happened to mindy?', ...,\n",
       "       'ooh!  ', 'nan',\n",
       "       'maybe the tomato seeds crossbred with the tobacco seeds.'],\n",
       "      dtype='<U73')"
      ]
     },
     "execution_count": 5,
     "metadata": {},
     "output_type": "execute_result"
    }
   ],
   "source": [
    "X_train"
   ]
  },
  {
   "cell_type": "code",
   "execution_count": 6,
   "metadata": {},
   "outputs": [
    {
     "data": {
      "text/plain": [
       "array(['bart', 'homer', 'bart', ..., 'homer', 'marge', 'lisa'],\n",
       "      dtype='<U5')"
      ]
     },
     "execution_count": 6,
     "metadata": {},
     "output_type": "execute_result"
    }
   ],
   "source": [
    "y_train"
   ]
  },
  {
   "cell_type": "code",
   "execution_count": 37,
   "metadata": {},
   "outputs": [
    {
     "data": {
      "text/plain": [
       "0.4843296575739988"
      ]
     },
     "execution_count": 37,
     "metadata": {},
     "output_type": "execute_result"
    }
   ],
   "source": [
    "#  Naive Bayesian\n",
    "text_clf = Pipeline([('vect', CountVectorizer(stop_words=\"english\")), ('tfidf', TfidfTransformer()), ('clf', MultinomialNB())])\n",
    "\n",
    "text_clf = text_clf.fit(X_train, y_train)\n",
    "predicted = text_clf.predict(X_test)\n",
    "np.mean(predicted == y_test)"
   ]
  },
  {
   "cell_type": "code",
   "execution_count": 38,
   "metadata": {},
   "outputs": [
    {
     "name": "stderr",
     "output_type": "stream",
     "text": [
      "C:\\Users\\timot\\Anaconda3\\envs\\PythonData\\lib\\site-packages\\sklearn\\linear_model\\stochastic_gradient.py:117: DeprecationWarning: n_iter parameter is deprecated in 0.19 and will be removed in 0.21. Use max_iter and tol instead.\n",
      "  DeprecationWarning)\n"
     ]
    },
    {
     "data": {
      "text/plain": [
       "0.5168311085316308"
      ]
     },
     "execution_count": 38,
     "metadata": {},
     "output_type": "execute_result"
    }
   ],
   "source": [
    "#  SGD-SVM\n",
    "text_clf_svm = Pipeline([('vect', CountVectorizer(stop_words=\"english\")), ('tfidf', TfidfTransformer()),\n",
    "                         ('clf-svm', SGDClassifier(loss='hinge', penalty='l2',alpha=1e-3, n_iter=5, random_state=42))])\n",
    "\n",
    "text_clf_svm = text_clf_svm.fit(X_train, y_train)\n",
    "predicted_svm = text_clf_svm.predict(X_test)\n",
    "np.mean(predicted_svm == y_test)"
   ]
  },
  {
   "cell_type": "code",
   "execution_count": 39,
   "metadata": {},
   "outputs": [
    {
     "data": {
      "text/plain": [
       "0.4762042948345908"
      ]
     },
     "execution_count": 39,
     "metadata": {},
     "output_type": "execute_result"
    }
   ],
   "source": [
    "# Random Forest\n",
    "text_clf_RanFor = Pipeline([('vect', CountVectorizer(ngram_range=(1, 1))), ('tfidf', TfidfTransformer(use_idf=True)),\n",
    "                         ('clf-RanFor', RandomForestClassifier(n_estimators=10))])\n",
    "\n",
    "text_clf_RanFor = text_clf_RanFor.fit(X_train, y_train)\n",
    "predicted_RanFor = text_clf_RanFor.predict(X_test)\n",
    "np.mean(predicted_RanFor == y_test)"
   ]
  },
  {
   "cell_type": "code",
   "execution_count": 40,
   "metadata": {},
   "outputs": [
    {
     "data": {
      "text/plain": [
       "0.524376088218224"
      ]
     },
     "execution_count": 40,
     "metadata": {},
     "output_type": "execute_result"
    }
   ],
   "source": [
    "# Linear regression\n",
    "text_clf_LogReg = Pipeline([('vect', CountVectorizer(ngram_range=(1, 1))), ('tfidf', TfidfTransformer(use_idf=True)),\n",
    "                         ('clf-RanFor', LogisticRegression())])\n",
    "\n",
    "text_clf_LogReg = text_clf_LogReg.fit(X_train, y_train)\n",
    "predicted_LogReg = text_clf_LogReg.predict(X_test)\n",
    "np.mean(predicted_LogReg == y_test)"
   ]
  },
  {
   "cell_type": "code",
   "execution_count": null,
   "metadata": {},
   "outputs": [],
   "source": []
  },
  {
   "cell_type": "code",
   "execution_count": null,
   "metadata": {},
   "outputs": [],
   "source": []
  },
  {
   "cell_type": "code",
   "execution_count": 41,
   "metadata": {},
   "outputs": [
    {
     "name": "stdout",
     "output_type": "stream",
     "text": [
      "0.4712198897165522\n",
      "{'clf__alpha': 0.01, 'tfidf__use_idf': False, 'vect__ngram_range': (1, 5)}\n"
     ]
    }
   ],
   "source": [
    "parameters = {'vect__ngram_range': [(1, 1), (1, 2), (1, 3), (1, 4), (1, 5)], 'tfidf__use_idf': (True, False), 'clf__alpha': (1e-2, 1e-3)}\n",
    "\n",
    "gs_clf = GridSearchCV(text_clf, parameters, n_jobs=-1)\n",
    "gs_clf = gs_clf.fit(X_train, y_train)\n",
    "\n",
    "print(gs_clf.best_score_)\n",
    "print(gs_clf.best_params_)"
   ]
  },
  {
   "cell_type": "code",
   "execution_count": 42,
   "metadata": {},
   "outputs": [
    {
     "name": "stdout",
     "output_type": "stream",
     "text": [
      "0.5141723904421012\n",
      "{'clf-svm__alpha': 0.001, 'tfidf__use_idf': True, 'vect__ngram_range': (1, 2)}\n"
     ]
    },
    {
     "name": "stderr",
     "output_type": "stream",
     "text": [
      "C:\\Users\\timot\\Anaconda3\\envs\\PythonData\\lib\\site-packages\\sklearn\\linear_model\\stochastic_gradient.py:117: DeprecationWarning: n_iter parameter is deprecated in 0.19 and will be removed in 0.21. Use max_iter and tol instead.\n",
      "  DeprecationWarning)\n"
     ]
    }
   ],
   "source": [
    "parameters_svm = {'vect__ngram_range': [(1, 1), (1, 2), (1, 3), (1, 4), (1, 5)], 'tfidf__use_idf': (True, False),'clf-svm__alpha': (1e-2, 1e-3)}\n",
    "\n",
    "gs_clf_svm = GridSearchCV(text_clf_svm, parameters_svm, n_jobs=-1)\n",
    "gs_clf_svm = gs_clf_svm.fit(X_train, y_train)\n",
    "\n",
    "\n",
    "print(gs_clf_svm.best_score_)\n",
    "print(gs_clf_svm.best_params_)"
   ]
  },
  {
   "cell_type": "code",
   "execution_count": null,
   "metadata": {},
   "outputs": [],
   "source": []
  },
  {
   "cell_type": "code",
   "execution_count": 43,
   "metadata": {},
   "outputs": [
    {
     "name": "stderr",
     "output_type": "stream",
     "text": [
      "C:\\Users\\timot\\Anaconda3\\envs\\PythonData\\lib\\site-packages\\sklearn\\linear_model\\stochastic_gradient.py:117: DeprecationWarning: n_iter parameter is deprecated in 0.19 and will be removed in 0.21. Use max_iter and tol instead.\n",
      "  DeprecationWarning)\n"
     ]
    },
    {
     "data": {
      "text/plain": [
       "0.5249564712710388"
      ]
     },
     "execution_count": 43,
     "metadata": {},
     "output_type": "execute_result"
    }
   ],
   "source": [
    "# Parameter-adjusted SDG-SVM\n",
    "text_clf_svm = Pipeline([('vect', CountVectorizer(ngram_range=(1, 2))), ('tfidf', TfidfTransformer(use_idf=True)),\n",
    "                         ('clf-svm', SGDClassifier(loss='hinge', penalty='l2',alpha=.001, n_iter=4, random_state=42))])\n",
    "\n",
    "text_clf_svm = text_clf_svm.fit(X_train, y_train)\n",
    "predicted_svm = text_clf_svm.predict(X_test)\n",
    "np.mean(predicted_svm == y_test)"
   ]
  },
  {
   "cell_type": "code",
   "execution_count": 44,
   "metadata": {},
   "outputs": [
    {
     "data": {
      "text/html": [
       "<div>\n",
       "<style scoped>\n",
       "    .dataframe tbody tr th:only-of-type {\n",
       "        vertical-align: middle;\n",
       "    }\n",
       "\n",
       "    .dataframe tbody tr th {\n",
       "        vertical-align: top;\n",
       "    }\n",
       "\n",
       "    .dataframe thead th {\n",
       "        text-align: right;\n",
       "    }\n",
       "</style>\n",
       "<table border=\"1\" class=\"dataframe\">\n",
       "  <thead>\n",
       "    <tr style=\"text-align: right;\">\n",
       "      <th></th>\n",
       "      <th>Characters</th>\n",
       "      <th>Quotes</th>\n",
       "    </tr>\n",
       "  </thead>\n",
       "  <tbody>\n",
       "    <tr>\n",
       "      <th>0</th>\n",
       "      <td>homer</td>\n",
       "      <td>baaart, i'm gonna open my mouth and close my e...</td>\n",
       "    </tr>\n",
       "    <tr>\n",
       "      <th>1</th>\n",
       "      <td>bart</td>\n",
       "      <td>nobody better lay a finger on my butterfinger.</td>\n",
       "    </tr>\n",
       "    <tr>\n",
       "      <th>2</th>\n",
       "      <td>homer</td>\n",
       "      <td>what happened to the lights?</td>\n",
       "    </tr>\n",
       "    <tr>\n",
       "      <th>3</th>\n",
       "      <td>lisa</td>\n",
       "      <td>it's just a power outage, dad.</td>\n",
       "    </tr>\n",
       "    <tr>\n",
       "      <th>4</th>\n",
       "      <td>lisa</td>\n",
       "      <td>it's just bart eating a butterfinger!</td>\n",
       "    </tr>\n",
       "    <tr>\n",
       "      <th>5</th>\n",
       "      <td>homer</td>\n",
       "      <td>hmmm...and it sounds like he's right over...</td>\n",
       "    </tr>\n",
       "    <tr>\n",
       "      <th>6</th>\n",
       "      <td>homer</td>\n",
       "      <td>aw, how 'bout a bite, little buddy?</td>\n",
       "    </tr>\n",
       "    <tr>\n",
       "      <th>7</th>\n",
       "      <td>bart</td>\n",
       "      <td>oh, okay, homer.  just one.</td>\n",
       "    </tr>\n",
       "    <tr>\n",
       "      <th>8</th>\n",
       "      <td>homer</td>\n",
       "      <td>hey, this tastes just like a ...  dog biscuit!</td>\n",
       "    </tr>\n",
       "    <tr>\n",
       "      <th>9</th>\n",
       "      <td>bart</td>\n",
       "      <td>nobody better lay a finger on my butterfinger!</td>\n",
       "    </tr>\n",
       "    <tr>\n",
       "      <th>10</th>\n",
       "      <td>bart</td>\n",
       "      <td>police...i've been _robbed_!</td>\n",
       "    </tr>\n",
       "    <tr>\n",
       "      <th>11</th>\n",
       "      <td>homer</td>\n",
       "      <td>somer himpson.  i mean homer...</td>\n",
       "    </tr>\n",
       "    <tr>\n",
       "      <th>12</th>\n",
       "      <td>bart</td>\n",
       "      <td>naaaancy fredholm from hudson, new hampshire.</td>\n",
       "    </tr>\n",
       "    <tr>\n",
       "      <th>13</th>\n",
       "      <td>bart</td>\n",
       "      <td>you're one exceptional detective, man.</td>\n",
       "    </tr>\n",
       "    <tr>\n",
       "      <th>14</th>\n",
       "      <td>lisa</td>\n",
       "      <td>you're such a brat, bart.</td>\n",
       "    </tr>\n",
       "    <tr>\n",
       "      <th>15</th>\n",
       "      <td>lisa</td>\n",
       "      <td>yeah, you won't share your new butterfinger bb's.</td>\n",
       "    </tr>\n",
       "    <tr>\n",
       "      <th>16</th>\n",
       "      <td>bart</td>\n",
       "      <td>nobody'd better lay a finger on my butterfinge...</td>\n",
       "    </tr>\n",
       "    <tr>\n",
       "      <th>17</th>\n",
       "      <td>homer</td>\n",
       "      <td>ooh, my little buddy's sleeping like a baby!...</td>\n",
       "    </tr>\n",
       "    <tr>\n",
       "      <th>18</th>\n",
       "      <td>bart</td>\n",
       "      <td>i told you, homer!  nobody'd better lay a fi...</td>\n",
       "    </tr>\n",
       "    <tr>\n",
       "      <th>19</th>\n",
       "      <td>lisa</td>\n",
       "      <td>math is easy.  let's say you have fifteen butt...</td>\n",
       "    </tr>\n",
       "    <tr>\n",
       "      <th>20</th>\n",
       "      <td>bart</td>\n",
       "      <td>nobody better lay a finger on my butterfinger.</td>\n",
       "    </tr>\n",
       "    <tr>\n",
       "      <th>21</th>\n",
       "      <td>bart</td>\n",
       "      <td>behold!  the last butterfinger in the whole ...</td>\n",
       "    </tr>\n",
       "    <tr>\n",
       "      <th>22</th>\n",
       "      <td>bart</td>\n",
       "      <td>check out the smooth, chocolatey outside and c...</td>\n",
       "    </tr>\n",
       "    <tr>\n",
       "      <th>23</th>\n",
       "      <td>lisa</td>\n",
       "      <td>dad says if you make us scream, you're dead meat.</td>\n",
       "    </tr>\n",
       "    <tr>\n",
       "      <th>24</th>\n",
       "      <td>bart</td>\n",
       "      <td>nobody better lay a finger on my butterfinger.</td>\n",
       "    </tr>\n",
       "    <tr>\n",
       "      <th>25</th>\n",
       "      <td>homer</td>\n",
       "      <td>ooh, i bet you kids would like some of these n...</td>\n",
       "    </tr>\n",
       "    <tr>\n",
       "      <th>26</th>\n",
       "      <td>bart</td>\n",
       "      <td>nobody better lay a finger on my butterfinger.</td>\n",
       "    </tr>\n",
       "    <tr>\n",
       "      <th>27</th>\n",
       "      <td>bart</td>\n",
       "      <td>au contraire, mon fraire.  the butterfinger gr...</td>\n",
       "    </tr>\n",
       "    <tr>\n",
       "      <th>28</th>\n",
       "      <td>bart</td>\n",
       "      <td>looks like you could die of malnutrition, dude.</td>\n",
       "    </tr>\n",
       "    <tr>\n",
       "      <th>29</th>\n",
       "      <td>bart</td>\n",
       "      <td>nobody better lay a finger on my butterfinger.</td>\n",
       "    </tr>\n",
       "    <tr>\n",
       "      <th>...</th>\n",
       "      <td>...</td>\n",
       "      <td>...</td>\n",
       "    </tr>\n",
       "    <tr>\n",
       "      <th>13753</th>\n",
       "      <td>bart</td>\n",
       "      <td>that's it -- i'm blowing off the dance.  this ...</td>\n",
       "    </tr>\n",
       "    <tr>\n",
       "      <th>13754</th>\n",
       "      <td>lisa</td>\n",
       "      <td>greta called.  it seems you told her you were ...</td>\n",
       "    </tr>\n",
       "    <tr>\n",
       "      <th>13755</th>\n",
       "      <td>bart</td>\n",
       "      <td>lisa, i only lied because it was the easiest w...</td>\n",
       "    </tr>\n",
       "    <tr>\n",
       "      <th>13756</th>\n",
       "      <td>lisa</td>\n",
       "      <td>bart, this girl is in love with you.  think ab...</td>\n",
       "    </tr>\n",
       "    <tr>\n",
       "      <th>13757</th>\n",
       "      <td>bart</td>\n",
       "      <td>hey, i didn't lead her on.  i always played it...</td>\n",
       "    </tr>\n",
       "    <tr>\n",
       "      <th>13758</th>\n",
       "      <td>lisa</td>\n",
       "      <td>well, if you don't feel the way greta does, yo...</td>\n",
       "    </tr>\n",
       "    <tr>\n",
       "      <th>13759</th>\n",
       "      <td>bart</td>\n",
       "      <td>all right, i know what to do.  i'll dump her l...</td>\n",
       "    </tr>\n",
       "    <tr>\n",
       "      <th>13760</th>\n",
       "      <td>lisa</td>\n",
       "      <td>well, bart, you really understand women.</td>\n",
       "    </tr>\n",
       "    <tr>\n",
       "      <th>13761</th>\n",
       "      <td>bart</td>\n",
       "      <td>lis, women are easy.  state capitals are hard.</td>\n",
       "    </tr>\n",
       "    <tr>\n",
       "      <th>13762</th>\n",
       "      <td>bart</td>\n",
       "      <td>greta, i'm sorry i didn't handle the breakup w...</td>\n",
       "    </tr>\n",
       "    <tr>\n",
       "      <th>13763</th>\n",
       "      <td>bart</td>\n",
       "      <td>milhouse?  greta?  well, no one has to draw me a</td>\n",
       "    </tr>\n",
       "    <tr>\n",
       "      <th>13764</th>\n",
       "      <td>bart</td>\n",
       "      <td>greta, is this how it is?</td>\n",
       "    </tr>\n",
       "    <tr>\n",
       "      <th>13765</th>\n",
       "      <td>bart</td>\n",
       "      <td>oh, i was an idiot.  now i'll be alone forever...</td>\n",
       "    </tr>\n",
       "    <tr>\n",
       "      <th>13766</th>\n",
       "      <td>lisa</td>\n",
       "      <td>oh, bart, it's human nature.  you only want he...</td>\n",
       "    </tr>\n",
       "    <tr>\n",
       "      <th>13767</th>\n",
       "      <td>bart</td>\n",
       "      <td>prove it, using examples from this room.</td>\n",
       "    </tr>\n",
       "    <tr>\n",
       "      <th>13768</th>\n",
       "      <td>lisa</td>\n",
       "      <td>all right.  look, maggie's not playing with th...</td>\n",
       "    </tr>\n",
       "    <tr>\n",
       "      <th>13769</th>\n",
       "      <td>bart</td>\n",
       "      <td>gimmie the ball!  gimmie the ball!</td>\n",
       "    </tr>\n",
       "    <tr>\n",
       "      <th>13770</th>\n",
       "      <td>bart</td>\n",
       "      <td>so to win greta back, i have to go to toronto.</td>\n",
       "    </tr>\n",
       "    <tr>\n",
       "      <th>13771</th>\n",
       "      <td>homer</td>\n",
       "      <td>canada?  why should we leave america to visit ...</td>\n",
       "    </tr>\n",
       "    <tr>\n",
       "      <th>13772</th>\n",
       "      <td>bart</td>\n",
       "      <td>i'm a ten-year-old boy in toronto.  i should b...</td>\n",
       "    </tr>\n",
       "    <tr>\n",
       "      <th>13773</th>\n",
       "      <td>homer</td>\n",
       "      <td>would a u. s. dollar change your mind?</td>\n",
       "    </tr>\n",
       "    <tr>\n",
       "      <th>13774</th>\n",
       "      <td>bart</td>\n",
       "      <td>i don't know, dad.  what if she's still mad at...</td>\n",
       "    </tr>\n",
       "    <tr>\n",
       "      <th>13775</th>\n",
       "      <td>homer</td>\n",
       "      <td>listen to me, son.  no one loves a quitter, so...</td>\n",
       "    </tr>\n",
       "    <tr>\n",
       "      <th>13776</th>\n",
       "      <td>bart</td>\n",
       "      <td>but she might say, \"no.\"</td>\n",
       "    </tr>\n",
       "    <tr>\n",
       "      <th>13777</th>\n",
       "      <td>homer</td>\n",
       "      <td>oh, i quit; there's no convincing you.  oh, i'...</td>\n",
       "    </tr>\n",
       "    <tr>\n",
       "      <th>13778</th>\n",
       "      <td>bart</td>\n",
       "      <td>milhouse, she's only dating you to get back at...</td>\n",
       "    </tr>\n",
       "    <tr>\n",
       "      <th>13779</th>\n",
       "      <td>bart</td>\n",
       "      <td>greta, i miss you so much.  please be my girlf...</td>\n",
       "    </tr>\n",
       "    <tr>\n",
       "      <th>13780</th>\n",
       "      <td>bart</td>\n",
       "      <td>need a unit production manager?</td>\n",
       "    </tr>\n",
       "    <tr>\n",
       "      <th>13781</th>\n",
       "      <td>bart</td>\n",
       "      <td>well, i guess we're single again.</td>\n",
       "    </tr>\n",
       "    <tr>\n",
       "      <th>13782</th>\n",
       "      <td>bart</td>\n",
       "      <td>yep.  it's just that easy!</td>\n",
       "    </tr>\n",
       "  </tbody>\n",
       "</table>\n",
       "<p>13783 rows × 2 columns</p>\n",
       "</div>"
      ],
      "text/plain": [
       "      Characters                                             Quotes\n",
       "0          homer  baaart, i'm gonna open my mouth and close my e...\n",
       "1           bart     nobody better lay a finger on my butterfinger.\n",
       "2          homer                       what happened to the lights?\n",
       "3           lisa                     it's just a power outage, dad.\n",
       "4           lisa              it's just bart eating a butterfinger!\n",
       "5          homer       hmmm...and it sounds like he's right over...\n",
       "6          homer                aw, how 'bout a bite, little buddy?\n",
       "7           bart                        oh, okay, homer.  just one.\n",
       "8          homer     hey, this tastes just like a ...  dog biscuit!\n",
       "9           bart     nobody better lay a finger on my butterfinger!\n",
       "10          bart                       police...i've been _robbed_!\n",
       "11         homer                    somer himpson.  i mean homer...\n",
       "12          bart      naaaancy fredholm from hudson, new hampshire.\n",
       "13          bart             you're one exceptional detective, man.\n",
       "14          lisa                          you're such a brat, bart.\n",
       "15          lisa  yeah, you won't share your new butterfinger bb's.\n",
       "16          bart  nobody'd better lay a finger on my butterfinge...\n",
       "17         homer    ooh, my little buddy's sleeping like a baby!...\n",
       "18          bart    i told you, homer!  nobody'd better lay a fi...\n",
       "19          lisa  math is easy.  let's say you have fifteen butt...\n",
       "20          bart     nobody better lay a finger on my butterfinger.\n",
       "21          bart    behold!  the last butterfinger in the whole ...\n",
       "22          bart  check out the smooth, chocolatey outside and c...\n",
       "23          lisa  dad says if you make us scream, you're dead meat.\n",
       "24          bart     nobody better lay a finger on my butterfinger.\n",
       "25         homer  ooh, i bet you kids would like some of these n...\n",
       "26          bart     nobody better lay a finger on my butterfinger.\n",
       "27          bart  au contraire, mon fraire.  the butterfinger gr...\n",
       "28          bart    looks like you could die of malnutrition, dude.\n",
       "29          bart     nobody better lay a finger on my butterfinger.\n",
       "...          ...                                                ...\n",
       "13753       bart  that's it -- i'm blowing off the dance.  this ...\n",
       "13754       lisa  greta called.  it seems you told her you were ...\n",
       "13755       bart  lisa, i only lied because it was the easiest w...\n",
       "13756       lisa  bart, this girl is in love with you.  think ab...\n",
       "13757       bart  hey, i didn't lead her on.  i always played it...\n",
       "13758       lisa  well, if you don't feel the way greta does, yo...\n",
       "13759       bart  all right, i know what to do.  i'll dump her l...\n",
       "13760       lisa           well, bart, you really understand women.\n",
       "13761       bart     lis, women are easy.  state capitals are hard.\n",
       "13762       bart  greta, i'm sorry i didn't handle the breakup w...\n",
       "13763       bart   milhouse?  greta?  well, no one has to draw me a\n",
       "13764       bart                          greta, is this how it is?\n",
       "13765       bart  oh, i was an idiot.  now i'll be alone forever...\n",
       "13766       lisa  oh, bart, it's human nature.  you only want he...\n",
       "13767       bart           prove it, using examples from this room.\n",
       "13768       lisa  all right.  look, maggie's not playing with th...\n",
       "13769       bart                 gimmie the ball!  gimmie the ball!\n",
       "13770       bart     so to win greta back, i have to go to toronto.\n",
       "13771      homer  canada?  why should we leave america to visit ...\n",
       "13772       bart  i'm a ten-year-old boy in toronto.  i should b...\n",
       "13773      homer             would a u. s. dollar change your mind?\n",
       "13774       bart  i don't know, dad.  what if she's still mad at...\n",
       "13775      homer  listen to me, son.  no one loves a quitter, so...\n",
       "13776       bart                           but she might say, \"no.\"\n",
       "13777      homer  oh, i quit; there's no convincing you.  oh, i'...\n",
       "13778       bart  milhouse, she's only dating you to get back at...\n",
       "13779       bart  greta, i miss you so much.  please be my girlf...\n",
       "13780       bart                  need a unit production manager?  \n",
       "13781       bart                  well, i guess we're single again.\n",
       "13782       bart                       yep.  it's just that easy!  \n",
       "\n",
       "[13783 rows x 2 columns]"
      ]
     },
     "execution_count": 44,
     "metadata": {},
     "output_type": "execute_result"
    }
   ],
   "source": [
    "df"
   ]
  },
  {
   "cell_type": "code",
   "execution_count": null,
   "metadata": {},
   "outputs": [],
   "source": []
  },
  {
   "cell_type": "code",
   "execution_count": null,
   "metadata": {},
   "outputs": [],
   "source": []
  }
 ],
 "metadata": {
  "kernelspec": {
   "display_name": "Python 3",
   "language": "python",
   "name": "python3"
  },
  "language_info": {
   "codemirror_mode": {
    "name": "ipython",
    "version": 3
   },
   "file_extension": ".py",
   "mimetype": "text/x-python",
   "name": "python",
   "nbconvert_exporter": "python",
   "pygments_lexer": "ipython3",
   "version": "3.6.4"
  }
 },
 "nbformat": 4,
 "nbformat_minor": 2
}
