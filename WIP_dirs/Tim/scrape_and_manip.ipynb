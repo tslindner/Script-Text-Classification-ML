{
 "cells": [
  {
   "cell_type": "code",
   "execution_count": 1,
   "metadata": {},
   "outputs": [],
   "source": [
    "import pandas as pd\n",
    "import requests\n",
    "from bs4 import BeautifulSoup as bs\n",
    "from splinter import Browser\n",
    "from pprint import pprint\n",
    "import json"
   ]
  },
  {
   "cell_type": "code",
   "execution_count": 2,
   "metadata": {},
   "outputs": [],
   "source": [
    "index_url = \"http://www.imsdb.com/TV/Futurama.html\""
   ]
  },
  {
   "cell_type": "code",
   "execution_count": 3,
   "metadata": {},
   "outputs": [],
   "source": [
    "def soupify(url):\n",
    "    browser = Browser(\"chrome\")\n",
    "    browser.visit(url)\n",
    "    html_code = browser.html\n",
    "    soup = bs(html_code, \"html.parser\")\n",
    "    return soup\n",
    "    browser.windows[0].close()"
   ]
  },
  {
   "cell_type": "code",
   "execution_count": 4,
   "metadata": {},
   "outputs": [],
   "source": [
    "def url_creation(extension):\n",
    "    url = \"http://www.imsdb.com\" + extension\n",
    "    return url"
   ]
  },
  {
   "cell_type": "code",
   "execution_count": 5,
   "metadata": {},
   "outputs": [],
   "source": [
    "url_list1 = []\n",
    "url_list2 = []"
   ]
  },
  {
   "cell_type": "code",
   "execution_count": 6,
   "metadata": {},
   "outputs": [],
   "source": [
    "index_soup = soupify(index_url)\n",
    "index_links = index_soup.select(\"p a\")"
   ]
  },
  {
   "cell_type": "code",
   "execution_count": 7,
   "metadata": {},
   "outputs": [],
   "source": [
    "for i in index_links:\n",
    "    extension = i[\"href\"]\n",
    "    extension = url_creation(extension)\n",
    "    url_list1.append(extension)"
   ]
  },
  {
   "cell_type": "code",
   "execution_count": 9,
   "metadata": {},
   "outputs": [
    {
     "ename": "AttributeError",
     "evalue": "'NoneType' object has no attribute 'text'",
     "output_type": "error",
     "traceback": [
      "\u001b[1;31m---------------------------------------------------------------------------\u001b[0m",
      "\u001b[1;31mAttributeError\u001b[0m                            Traceback (most recent call last)",
      "\u001b[1;32m<ipython-input-9-e0bd0fe8153b>\u001b[0m in \u001b[0;36m<module>\u001b[1;34m()\u001b[0m\n\u001b[0;32m      9\u001b[0m     \u001b[0mloop_soup\u001b[0m \u001b[1;33m=\u001b[0m \u001b[0murl_creation\u001b[0m\u001b[1;33m(\u001b[0m\u001b[0mloop_soup\u001b[0m\u001b[1;33m)\u001b[0m\u001b[1;33m\u001b[0m\u001b[0m\n\u001b[0;32m     10\u001b[0m     \u001b[0mloop_soup\u001b[0m \u001b[1;33m=\u001b[0m \u001b[0msoupify\u001b[0m\u001b[1;33m(\u001b[0m\u001b[0mloop_soup\u001b[0m\u001b[1;33m)\u001b[0m\u001b[1;33m\u001b[0m\u001b[0m\n\u001b[1;32m---> 11\u001b[1;33m     \u001b[0mloop_soup\u001b[0m \u001b[1;33m=\u001b[0m \u001b[0mloop_soup\u001b[0m\u001b[1;33m.\u001b[0m\u001b[0mselect_one\u001b[0m\u001b[1;33m(\u001b[0m\u001b[1;34m\"pre\"\u001b[0m\u001b[1;33m)\u001b[0m\u001b[1;33m.\u001b[0m\u001b[0mtext\u001b[0m\u001b[1;33m.\u001b[0m\u001b[0mstrip\u001b[0m\u001b[1;33m(\u001b[0m\u001b[1;33m)\u001b[0m\u001b[1;33m\u001b[0m\u001b[0m\n\u001b[0m\u001b[0;32m     12\u001b[0m     \u001b[0mloop_soup\u001b[0m \u001b[1;33m=\u001b[0m \u001b[0mloop_soup\u001b[0m\u001b[1;33m.\u001b[0m\u001b[0msplit\u001b[0m\u001b[1;33m(\u001b[0m\u001b[1;34m\"\\n\"\u001b[0m\u001b[1;33m)\u001b[0m\u001b[1;33m\u001b[0m\u001b[0m\n\u001b[0;32m     13\u001b[0m \u001b[1;33m\u001b[0m\u001b[0m\n",
      "\u001b[1;31mAttributeError\u001b[0m: 'NoneType' object has no attribute 'text'"
     ]
    }
   ],
   "source": [
    "characters = []\n",
    "quotes = []\n",
    "loop_quote = []\n",
    "quote_switch = False\n",
    "\n",
    "for i in url_list1:\n",
    "    loop_soup = soupify(i)\n",
    "    loop_soup = loop_soup.select_one(\"p a\")[\"href\"]\n",
    "    loop_soup = url_creation(loop_soup)\n",
    "    loop_soup = soupify(loop_soup)\n",
    "    loop_soup = loop_soup.select_one(\"pre\").text.strip()\n",
    "    loop_soup = loop_soup.split(\"\\n\")\n",
    "    \n",
    "    for j in loop_soup:\n",
    "        j = j.strip()\n",
    "\n",
    "        if quote_switch == False:\n",
    "            if j.isupper():\n",
    "                if j == \"The End\":\n",
    "                    pass\n",
    "                else:\n",
    "                    characters.append(j)\n",
    "                    quote_switch = True\n",
    "            continue\n",
    "\n",
    "        else:\n",
    "            if j.isupper() or j.startswith(\"[\") or len(j) < 1:\n",
    "                quote_switch = False\n",
    "                quote = \" \".join(loop_quote)\n",
    "                quotes.append(quote)\n",
    "                loop_quote = []\n",
    "            else:\n",
    "                loop_quote.append(j)"
   ]
  },
  {
   "cell_type": "code",
   "execution_count": 11,
   "metadata": {},
   "outputs": [
    {
     "data": {
      "text/plain": [
       "10287"
      ]
     },
     "execution_count": 11,
     "metadata": {},
     "output_type": "execute_result"
    }
   ],
   "source": [
    "characters"
   ]
  },
  {
   "cell_type": "code",
   "execution_count": 33,
   "metadata": {},
   "outputs": [
    {
     "data": {
      "text/plain": [
       "\"As new employees I'd like your opinion on our commercial. I paid to have it air during the Superbowl.\""
      ]
     },
     "execution_count": 33,
     "metadata": {},
     "output_type": "execute_result"
    }
   ],
   "source": [
    "quotes[219]"
   ]
  },
  {
   "cell_type": "code",
   "execution_count": 18,
   "metadata": {},
   "outputs": [
    {
     "data": {
      "text/plain": [
       "10243"
      ]
     },
     "execution_count": 18,
     "metadata": {},
     "output_type": "execute_result"
    }
   ],
   "source": [
    "len(characters)"
   ]
  },
  {
   "cell_type": "code",
   "execution_count": 19,
   "metadata": {},
   "outputs": [
    {
     "data": {
      "text/plain": [
       "10286"
      ]
     },
     "execution_count": 19,
     "metadata": {},
     "output_type": "execute_result"
    }
   ],
   "source": [
    "len(quotes)"
   ]
  },
  {
   "cell_type": "code",
   "execution_count": 17,
   "metadata": {},
   "outputs": [],
   "source": [
    "for k in characters:\n",
    "    if k == \"THE END\":\n",
    "        characters.remove(\"THE END\")"
   ]
  },
  {
   "cell_type": "code",
   "execution_count": null,
   "metadata": {},
   "outputs": [],
   "source": [
    "df = pd.DataFrame({\"Characters\" : characters,\n",
    "                  \"Quotes\" : quotes})"
   ]
  },
  {
   "cell_type": "code",
   "execution_count": null,
   "metadata": {
    "scrolled": true
   },
   "outputs": [],
   "source": [
    "df"
   ]
  },
  {
   "cell_type": "code",
   "execution_count": null,
   "metadata": {},
   "outputs": [],
   "source": [
    "test8 = df.iloc[5, 1]"
   ]
  },
  {
   "cell_type": "code",
   "execution_count": null,
   "metadata": {},
   "outputs": [],
   "source": [
    "print(test8)"
   ]
  },
  {
   "cell_type": "code",
   "execution_count": null,
   "metadata": {},
   "outputs": [],
   "source": []
  }
 ],
 "metadata": {
  "kernelspec": {
   "display_name": "Python 3",
   "language": "python",
   "name": "python3"
  },
  "language_info": {
   "codemirror_mode": {
    "name": "ipython",
    "version": 3
   },
   "file_extension": ".py",
   "mimetype": "text/x-python",
   "name": "python",
   "nbconvert_exporter": "python",
   "pygments_lexer": "ipython3",
   "version": "3.6.4"
  }
 },
 "nbformat": 4,
 "nbformat_minor": 2
}
