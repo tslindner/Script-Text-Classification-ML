{
 "cells": [
  {
   "cell_type": "code",
   "execution_count": 21,
   "metadata": {},
   "outputs": [],
   "source": [
    "import pandas as pd\n",
    "import re\n",
    "#df = pd.read_csv(\"output.csv\")\n",
    "df = pd.read_csv(\"output_tv.csv\") # new data with all episodes\n",
    "df = df.drop([\"Unnamed: 0\"], axis=1)"
   ]
  },
  {
   "cell_type": "code",
   "execution_count": 22,
   "metadata": {},
   "outputs": [
    {
     "data": {
      "text/plain": [
       "Characters    25243\n",
       "Quotes        25126\n",
       "dtype: int64"
      ]
     },
     "execution_count": 22,
     "metadata": {},
     "output_type": "execute_result"
    }
   ],
   "source": [
    "df.count()"
   ]
  },
  {
   "cell_type": "code",
   "execution_count": 23,
   "metadata": {},
   "outputs": [
    {
     "data": {
      "text/html": [
       "<div>\n",
       "<style scoped>\n",
       "    .dataframe tbody tr th:only-of-type {\n",
       "        vertical-align: middle;\n",
       "    }\n",
       "\n",
       "    .dataframe tbody tr th {\n",
       "        vertical-align: top;\n",
       "    }\n",
       "\n",
       "    .dataframe thead th {\n",
       "        text-align: right;\n",
       "    }\n",
       "</style>\n",
       "<table border=\"1\" class=\"dataframe\">\n",
       "  <thead>\n",
       "    <tr style=\"text-align: right;\">\n",
       "      <th></th>\n",
       "      <th>Characters</th>\n",
       "      <th>Quotes</th>\n",
       "    </tr>\n",
       "  </thead>\n",
       "  <tbody>\n",
       "    <tr>\n",
       "      <th>0</th>\n",
       "      <td>Fry</td>\n",
       "      <td>Space. It seems to go on and on forever. But t...</td>\n",
       "    </tr>\n",
       "    <tr>\n",
       "      <th>1</th>\n",
       "      <td>Fry</td>\n",
       "      <td>And that's how you play the game!</td>\n",
       "    </tr>\n",
       "    <tr>\n",
       "      <th>2</th>\n",
       "      <td>Boy</td>\n",
       "      <td>You stink, loser!</td>\n",
       "    </tr>\n",
       "    <tr>\n",
       "      <th>3</th>\n",
       "      <td>Panucci</td>\n",
       "      <td>Hey, Fry. Pizza goin' out! C'mon!!</td>\n",
       "    </tr>\n",
       "    <tr>\n",
       "      <th>4</th>\n",
       "      <td>Fry</td>\n",
       "      <td>Michelle, baby! Where you going?</td>\n",
       "    </tr>\n",
       "  </tbody>\n",
       "</table>\n",
       "</div>"
      ],
      "text/plain": [
       "  Characters                                             Quotes\n",
       "0        Fry  Space. It seems to go on and on forever. But t...\n",
       "1        Fry                  And that's how you play the game!\n",
       "2        Boy                                  You stink, loser!\n",
       "3    Panucci                 Hey, Fry. Pizza goin' out! C'mon!!\n",
       "4        Fry                   Michelle, baby! Where you going?"
      ]
     },
     "execution_count": 23,
     "metadata": {},
     "output_type": "execute_result"
    }
   ],
   "source": [
    "df.head()"
   ]
  },
  {
   "cell_type": "code",
   "execution_count": 24,
   "metadata": {},
   "outputs": [],
   "source": [
    "#Stackoverflow solution to remove data within () [].\n",
    "'''\n",
    "import re \n",
    "x = \"This is a sentence. (once a day) [twice a day]\"\n",
    "x = re.sub(\"[\\(\\[].*?[\\)\\]]\", \"\", x)\n",
    "'''\n",
    "\n",
    "quotes3 = []\n",
    "for x in  df[\"Quotes\"]:\n",
    "    x = re.sub(\"[\\(\\[].*?[\\)\\]]\", \"\", str(x))\n",
    "    quotes3.append(str(x))"
   ]
  },
  {
   "cell_type": "code",
   "execution_count": 25,
   "metadata": {},
   "outputs": [
    {
     "data": {
      "text/plain": [
       "25243"
      ]
     },
     "execution_count": 25,
     "metadata": {},
     "output_type": "execute_result"
    }
   ],
   "source": [
    "len(quotes3)"
   ]
  },
  {
   "cell_type": "code",
   "execution_count": 26,
   "metadata": {},
   "outputs": [
    {
     "data": {
      "text/html": [
       "<div>\n",
       "<style scoped>\n",
       "    .dataframe tbody tr th:only-of-type {\n",
       "        vertical-align: middle;\n",
       "    }\n",
       "\n",
       "    .dataframe tbody tr th {\n",
       "        vertical-align: top;\n",
       "    }\n",
       "\n",
       "    .dataframe thead th {\n",
       "        text-align: right;\n",
       "    }\n",
       "</style>\n",
       "<table border=\"1\" class=\"dataframe\">\n",
       "  <thead>\n",
       "    <tr style=\"text-align: right;\">\n",
       "      <th></th>\n",
       "      <th>Characters</th>\n",
       "      <th>Quotes</th>\n",
       "      <th>Remove Data</th>\n",
       "    </tr>\n",
       "  </thead>\n",
       "  <tbody>\n",
       "    <tr>\n",
       "      <th>0</th>\n",
       "      <td>Fry</td>\n",
       "      <td>Space. It seems to go on and on forever. But t...</td>\n",
       "      <td>Space. It seems to go on and on forever. But t...</td>\n",
       "    </tr>\n",
       "  </tbody>\n",
       "</table>\n",
       "</div>"
      ],
      "text/plain": [
       "  Characters                                             Quotes  \\\n",
       "0        Fry  Space. It seems to go on and on forever. But t...   \n",
       "\n",
       "                                         Remove Data  \n",
       "0  Space. It seems to go on and on forever. But t...  "
      ]
     },
     "execution_count": 26,
     "metadata": {},
     "output_type": "execute_result"
    }
   ],
   "source": [
    "df[\"Remove Data\"] = quotes3\n",
    "df.head(1)"
   ]
  },
  {
   "cell_type": "code",
   "execution_count": 27,
   "metadata": {},
   "outputs": [
    {
     "data": {
      "text/html": [
       "<div>\n",
       "<style scoped>\n",
       "    .dataframe tbody tr th:only-of-type {\n",
       "        vertical-align: middle;\n",
       "    }\n",
       "\n",
       "    .dataframe tbody tr th {\n",
       "        vertical-align: top;\n",
       "    }\n",
       "\n",
       "    .dataframe thead th {\n",
       "        text-align: right;\n",
       "    }\n",
       "</style>\n",
       "<table border=\"1\" class=\"dataframe\">\n",
       "  <thead>\n",
       "    <tr style=\"text-align: right;\">\n",
       "      <th></th>\n",
       "      <th>Characters</th>\n",
       "      <th>Quotes</th>\n",
       "      <th>Remove Data</th>\n",
       "      <th>Quotes w/o Pun.</th>\n",
       "    </tr>\n",
       "  </thead>\n",
       "  <tbody>\n",
       "    <tr>\n",
       "      <th>0</th>\n",
       "      <td>Fry</td>\n",
       "      <td>Space. It seems to go on and on forever. But t...</td>\n",
       "      <td>Space. It seems to go on and on forever. But t...</td>\n",
       "      <td>Space It seems to go on and on forever But the...</td>\n",
       "    </tr>\n",
       "    <tr>\n",
       "      <th>1</th>\n",
       "      <td>Fry</td>\n",
       "      <td>And that's how you play the game!</td>\n",
       "      <td>And that's how you play the game!</td>\n",
       "      <td>And thats how you play the game</td>\n",
       "    </tr>\n",
       "    <tr>\n",
       "      <th>2</th>\n",
       "      <td>Boy</td>\n",
       "      <td>You stink, loser!</td>\n",
       "      <td>You stink, loser!</td>\n",
       "      <td>You stink loser</td>\n",
       "    </tr>\n",
       "    <tr>\n",
       "      <th>3</th>\n",
       "      <td>Panucci</td>\n",
       "      <td>Hey, Fry. Pizza goin' out! C'mon!!</td>\n",
       "      <td>Hey, Fry. Pizza goin' out! C'mon!!</td>\n",
       "      <td>Hey Fry Pizza goin out Cmon</td>\n",
       "    </tr>\n",
       "    <tr>\n",
       "      <th>4</th>\n",
       "      <td>Fry</td>\n",
       "      <td>Michelle, baby! Where you going?</td>\n",
       "      <td>Michelle, baby! Where you going?</td>\n",
       "      <td>Michelle baby Where you going</td>\n",
       "    </tr>\n",
       "  </tbody>\n",
       "</table>\n",
       "</div>"
      ],
      "text/plain": [
       "  Characters                                             Quotes  \\\n",
       "0        Fry  Space. It seems to go on and on forever. But t...   \n",
       "1        Fry                  And that's how you play the game!   \n",
       "2        Boy                                  You stink, loser!   \n",
       "3    Panucci                 Hey, Fry. Pizza goin' out! C'mon!!   \n",
       "4        Fry                   Michelle, baby! Where you going?   \n",
       "\n",
       "                                         Remove Data  \\\n",
       "0  Space. It seems to go on and on forever. But t...   \n",
       "1                  And that's how you play the game!   \n",
       "2                                  You stink, loser!   \n",
       "3                 Hey, Fry. Pizza goin' out! C'mon!!   \n",
       "4                   Michelle, baby! Where you going?   \n",
       "\n",
       "                                     Quotes w/o Pun.  \n",
       "0  Space It seems to go on and on forever But the...  \n",
       "1                    And thats how you play the game  \n",
       "2                                    You stink loser  \n",
       "3                        Hey Fry Pizza goin out Cmon  \n",
       "4                      Michelle baby Where you going  "
      ]
     },
     "execution_count": 27,
     "metadata": {},
     "output_type": "execute_result"
    }
   ],
   "source": [
    "#Removes punctuation and creates new column\n",
    "df[\"Quotes w/o Pun.\"] = df[\"Remove Data\"].str.replace('[^\\w\\s]','')\n",
    "df.head()"
   ]
  },
  {
   "cell_type": "code",
   "execution_count": 28,
   "metadata": {},
   "outputs": [
    {
     "data": {
      "text/html": [
       "<div>\n",
       "<style scoped>\n",
       "    .dataframe tbody tr th:only-of-type {\n",
       "        vertical-align: middle;\n",
       "    }\n",
       "\n",
       "    .dataframe tbody tr th {\n",
       "        vertical-align: top;\n",
       "    }\n",
       "\n",
       "    .dataframe thead th {\n",
       "        text-align: right;\n",
       "    }\n",
       "</style>\n",
       "<table border=\"1\" class=\"dataframe\">\n",
       "  <thead>\n",
       "    <tr style=\"text-align: right;\">\n",
       "      <th></th>\n",
       "      <th>Characters</th>\n",
       "      <th>Quotes</th>\n",
       "    </tr>\n",
       "  </thead>\n",
       "  <tbody>\n",
       "    <tr>\n",
       "      <th>0</th>\n",
       "      <td>Fry</td>\n",
       "      <td>Space It seems to go on and on forever But the...</td>\n",
       "    </tr>\n",
       "    <tr>\n",
       "      <th>1</th>\n",
       "      <td>Fry</td>\n",
       "      <td>And thats how you play the game</td>\n",
       "    </tr>\n",
       "    <tr>\n",
       "      <th>2</th>\n",
       "      <td>Boy</td>\n",
       "      <td>You stink loser</td>\n",
       "    </tr>\n",
       "    <tr>\n",
       "      <th>3</th>\n",
       "      <td>Panucci</td>\n",
       "      <td>Hey Fry Pizza goin out Cmon</td>\n",
       "    </tr>\n",
       "    <tr>\n",
       "      <th>4</th>\n",
       "      <td>Fry</td>\n",
       "      <td>Michelle baby Where you going</td>\n",
       "    </tr>\n",
       "  </tbody>\n",
       "</table>\n",
       "</div>"
      ],
      "text/plain": [
       "  Characters                                             Quotes\n",
       "0        Fry  Space It seems to go on and on forever But the...\n",
       "1        Fry                    And thats how you play the game\n",
       "2        Boy                                    You stink loser\n",
       "3    Panucci                        Hey Fry Pizza goin out Cmon\n",
       "4        Fry                      Michelle baby Where you going"
      ]
     },
     "execution_count": 28,
     "metadata": {},
     "output_type": "execute_result"
    }
   ],
   "source": [
    "#drop/rename columns to original state\n",
    "new_df = df.drop(columns= [\"Quotes\",\"Remove Data\"])\n",
    "new_df.columns = [\"Characters\", \"Quotes\"]\n",
    "new_df.head()"
   ]
  },
  {
   "cell_type": "code",
   "execution_count": 29,
   "metadata": {},
   "outputs": [],
   "source": [
    "#convert to csv\n",
    "new_df.to_csv(\"clean_output_tv.csv\")"
   ]
  },
  {
   "cell_type": "code",
   "execution_count": null,
   "metadata": {},
   "outputs": [],
   "source": []
  },
  {
   "cell_type": "code",
   "execution_count": null,
   "metadata": {},
   "outputs": [],
   "source": []
  }
 ],
 "metadata": {
  "kernelspec": {
   "display_name": "Python 3",
   "language": "python",
   "name": "python3"
  },
  "language_info": {
   "codemirror_mode": {
    "name": "ipython",
    "version": 3
   },
   "file_extension": ".py",
   "mimetype": "text/x-python",
   "name": "python",
   "nbconvert_exporter": "python",
   "pygments_lexer": "ipython3",
   "version": "3.6.5"
  }
 },
 "nbformat": 4,
 "nbformat_minor": 2
}
