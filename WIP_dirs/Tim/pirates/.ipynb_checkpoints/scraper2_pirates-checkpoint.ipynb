{
 "cells": [
  {
   "cell_type": "code",
   "execution_count": 1,
   "metadata": {},
   "outputs": [],
   "source": [
    "import pandas as pd\n",
    "import requests\n",
    "from bs4 import BeautifulSoup as bs\n",
    "from splinter import Browser\n",
    "from pprint import pprint\n",
    "import json\n",
    "import re"
   ]
  },
  {
   "cell_type": "code",
   "execution_count": 2,
   "metadata": {},
   "outputs": [],
   "source": [
    "def soupify(url):\n",
    "    browser = Browser(\"chrome\")\n",
    "    browser.visit(url)\n",
    "    html_code = browser.html\n",
    "    soup = bs(html_code, \"html.parser\")\n",
    "    return soup\n",
    "    browser.windows[0].close()"
   ]
  },
  {
   "cell_type": "code",
   "execution_count": 3,
   "metadata": {},
   "outputs": [],
   "source": [
    "url_list_movies = [\"http://transcripts.wikia.com/wiki/Pirates_of_the_Caribbean:_The_Curse_of_the_Black_Pearl\",\\\n",
    "           \"http://transcripts.wikia.com/wiki/Pirates_of_the_Caribbean:_Dead_Man%27s_Chest\",\\\n",
    "           \"http://transcripts.wikia.com/wiki/Pirates_of_the_Caribbean:_At_World%27s_End\"]"
   ]
  },
  {
   "cell_type": "code",
   "execution_count": null,
   "metadata": {
    "scrolled": true
   },
   "outputs": [],
   "source": [
    "characters = []\n",
    "quotes = []\n",
    "\n",
    "error_list = []\n",
    "\n",
    "loop_char_count = 0\n",
    "loop_quote_count = 0\n",
    "\n",
    "list_length = len(url_list)\n",
    "\n",
    "for i in url_list:\n",
    "    \n",
    "    print(i)\n",
    "\n",
    "    loop_soup = soupify(i)\n",
    "    loop_lines = loop_soup.select(\"p\")\n",
    "    loop_index = url_list_movies.index(i)\n",
    "\n",
    "    for k in loop_lines:\n",
    "        k = k.text.strip()\n",
    "        k = re.sub(r'\\[[^)]*\\]', '', k)\n",
    "        k = re.sub(r'\\([^)]*\\)', '', k)\n",
    "        k = re.sub(r'\\<[^)]*\\>', '', k)\n",
    "        k = re.sub(r'\\n', '', k)\n",
    "\n",
    "\n",
    "\n",
    "        if len(k) > 0 and \":\" in k:\n",
    "            k = k.split(\":\")\n",
    "            \n",
    "            if len(k[0]) > 0 and k[0] != \" \" and len(k[1]) > 0:\n",
    "\n",
    "                loop_character = k[0]\n",
    "                loop_character = loop_character.strip()\n",
    "\n",
    "                if loop_character[0] == \"⨂\":\n",
    "                    loop_character = loop_character[1:]\n",
    "\n",
    "                characters.append(loop_character)\n",
    "                loop_char_count += 1\n",
    "                print(\"char = \" + loop_character)\n",
    "\n",
    "\n",
    "                loop_quote = k[1:]\n",
    "\n",
    "                if len(loop_quote) > 1:\n",
    "                    \"\".join(loop_quote)\n",
    "\n",
    "                loop_quote = loop_quote[0].strip()\n",
    "                quotes.append(loop_quote)\n",
    "                loop_quote_count += 1\n",
    "                print(\"quote = \" + loop_quote)\n",
    "                \n",
    "            else:\n",
    "                print(f\"Something is wrong here\")\n",
    "        \n",
    "        else:\n",
    "            print(f\"Empty <p> at {i}\")\n",
    "\n",
    "\n",
    "\n",
    "    if loop_char_count != loop_quote_count:\n",
    "        error_list.append(url_list_movies.index(i))\n",
    "        \n",
    "    loop_char_list = 0\n",
    "    loop_quote_list = 0\n",
    "        \n",
    "    print(f\"Finished parsing #{loop_index} of {list_length}\")\n"
   ]
  },
  {
   "cell_type": "code",
   "execution_count": null,
   "metadata": {},
   "outputs": [],
   "source": [
    "len(characters)"
   ]
  },
  {
   "cell_type": "code",
   "execution_count": null,
   "metadata": {},
   "outputs": [],
   "source": [
    "len(quotes)"
   ]
  },
  {
   "cell_type": "code",
   "execution_count": null,
   "metadata": {},
   "outputs": [],
   "source": [
    "df = pd.DataFrame({\"Characters\" : characters,\n",
    "                  \"Quotes\" : quotes})\n",
    "df"
   ]
  },
  {
   "cell_type": "code",
   "execution_count": null,
   "metadata": {},
   "outputs": [],
   "source": [
    "df.to_csv(\"output_movies.csv\")"
   ]
  },
  {
   "cell_type": "code",
   "execution_count": null,
   "metadata": {},
   "outputs": [],
   "source": [
    "error_list"
   ]
  },
  {
   "cell_type": "code",
   "execution_count": null,
   "metadata": {},
   "outputs": [],
   "source": []
  }
 ],
 "metadata": {
  "kernelspec": {
   "display_name": "Python 3",
   "language": "python",
   "name": "python3"
  },
  "language_info": {
   "codemirror_mode": {
    "name": "ipython",
    "version": 3
   },
   "file_extension": ".py",
   "mimetype": "text/x-python",
   "name": "python",
   "nbconvert_exporter": "python",
   "pygments_lexer": "ipython3",
   "version": "3.6.4"
  }
 },
 "nbformat": 4,
 "nbformat_minor": 2
}
