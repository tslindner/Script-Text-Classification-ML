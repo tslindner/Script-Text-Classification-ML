{
 "cells": [
  {
   "cell_type": "code",
   "execution_count": 91,
   "metadata": {},
   "outputs": [],
   "source": [
    "import matplotlib.pyplot as plt\n",
    "import pandas as pd\n",
    "import numpy as np\n",
    "import nltk\n",
    "\n",
    "\n",
    "from sklearn import svm\n",
    "from sklearn.model_selection import train_test_split\n",
    "from sklearn.feature_extraction.text import CountVectorizer\n",
    "from sklearn.feature_extraction.text import TfidfTransformer\n",
    "from sklearn.naive_bayes import MultinomialNB\n",
    "from sklearn.pipeline import Pipeline\n",
    "from sklearn.linear_model import SGDClassifier\n",
    "from sklearn.model_selection import GridSearchCV\n",
    "from sklearn.pipeline import Pipeline\n",
    "from sklearn.ensemble import RandomForestClassifier\n",
    "from sklearn.linear_model import LogisticRegression\n",
    "from sklearn.neighbors import KNeighborsClassifier\n",
    "\n"
   ]
  },
  {
   "cell_type": "code",
   "execution_count": 25,
   "metadata": {},
   "outputs": [],
   "source": [
    "paths = {\"futurama\" : [\"futurama/2ch_futurama.csv\", \"futurama/4ch_futurama.csv\", \"futurama/6ch_futurama.csv\", \"futurama/8ch_futurama.csv\"],\n",
    "        \"simpsons\" : [\"simpsons/4ch_simpsons.csv\"],\n",
    "        \"west_wing\" : [\"west_wing/4ch_west_wing.csv\", \"west_wing/6ch_west_wing.csv\"],\n",
    "        \"pirates\" : [\"pirates/4ch_pirates.csv\"],\n",
    "        \"combined\" : [\"combined/3ch_combined.csv\", \"combined/4ch_combined.csv\"]}"
   ]
  },
  {
   "cell_type": "code",
   "execution_count": 26,
   "metadata": {},
   "outputs": [
    {
     "data": {
      "text/html": [
       "<div>\n",
       "<style scoped>\n",
       "    .dataframe tbody tr th:only-of-type {\n",
       "        vertical-align: middle;\n",
       "    }\n",
       "\n",
       "    .dataframe tbody tr th {\n",
       "        vertical-align: top;\n",
       "    }\n",
       "\n",
       "    .dataframe thead th {\n",
       "        text-align: right;\n",
       "    }\n",
       "</style>\n",
       "<table border=\"1\" class=\"dataframe\">\n",
       "  <thead>\n",
       "    <tr style=\"text-align: right;\">\n",
       "      <th></th>\n",
       "      <th>Characters</th>\n",
       "      <th>Quotes</th>\n",
       "      <th>show</th>\n",
       "    </tr>\n",
       "  </thead>\n",
       "  <tbody>\n",
       "    <tr>\n",
       "      <th>0</th>\n",
       "      <td>Fry</td>\n",
       "      <td>Space It seems to go on and on forever But the...</td>\n",
       "      <td>futurama</td>\n",
       "    </tr>\n",
       "    <tr>\n",
       "      <th>1</th>\n",
       "      <td>Fry</td>\n",
       "      <td>And thats how you play the game</td>\n",
       "      <td>futurama</td>\n",
       "    </tr>\n",
       "    <tr>\n",
       "      <th>2</th>\n",
       "      <td>Fry</td>\n",
       "      <td>Michelle baby Where you going</td>\n",
       "      <td>futurama</td>\n",
       "    </tr>\n",
       "  </tbody>\n",
       "</table>\n",
       "</div>"
      ],
      "text/plain": [
       "  Characters                                             Quotes      show\n",
       "0        Fry  Space It seems to go on and on forever But the...  futurama\n",
       "1        Fry                    And thats how you play the game  futurama\n",
       "2        Fry                      Michelle baby Where you going  futurama"
      ]
     },
     "execution_count": 26,
     "metadata": {},
     "output_type": "execute_result"
    }
   ],
   "source": [
    "df = pd.read_csv('combined/4ch_combined.csv')\n",
    "# del df[\"Unnamed: 0.1\"]\n",
    "del df[\"Unnamed: 0\"]\n",
    "\n",
    "\n",
    "df.head(3)"
   ]
  },
  {
   "cell_type": "code",
   "execution_count": 29,
   "metadata": {},
   "outputs": [
    {
     "ename": "SyntaxError",
     "evalue": "invalid syntax (<ipython-input-29-acf270ca5381>, line 23)",
     "output_type": "error",
     "traceback": [
      "\u001b[1;36m  File \u001b[1;32m\"<ipython-input-29-acf270ca5381>\"\u001b[1;36m, line \u001b[1;32m23\u001b[0m\n\u001b[1;33m    text_clf_RanFor = Pipeline([('vect', CountVectorizer(ngram_range=(1, 1))), ('tfidf', TfidfTransformer(use_idf=True)),\u001b[0m\n\u001b[1;37m                  ^\u001b[0m\n\u001b[1;31mSyntaxError\u001b[0m\u001b[1;31m:\u001b[0m invalid syntax\n"
     ]
    }
   ],
   "source": [
    "X = df[\"Quotes\"].values.astype('U')\n",
    "y = df[\"show\"].values.astype('U')\n",
    "print(X.shape, y.shape)\n",
    "\n",
    "X_train, X_test, y_train, y_test = train_test_split(X, y, random_state=42)\n",
    "\n",
    "#  Naive Bayesian\n",
    "text_clf = Pipeline([('vect', CountVectorizer(stop_words=\"english\")), ('tfidf', TfidfTransformer()), ('clf', MultinomialNB())])\n",
    "\n",
    "text_clf = text_clf.fit(X_train, y_train)\n",
    "predicted = text_clf.predict(X_test)\n",
    "print(\"Naive Bayesian score: \" + np.mean(predicted == y_test)\n",
    "\n",
    "# #  SGD-SVM\n",
    "# text_clf_svm = Pipeline([('vect', CountVectorizer(stop_words=\"english\")), ('tfidf', TfidfTransformer()),\\\n",
    "#                          ('clf-svm', SGDClassifier(loss='hinge', penalty='l2',alpha=1e-3, n_iter=5, random_state=42))])\n",
    "\n",
    "# text_clf_svm = text_clf_svm.fit(X_train, y_train)\n",
    "# predicted_svm = text_clf_svm.predict(X_test)\n",
    "# print(\"SGD-SVM score: \" + np.mean(predicted_svm == y_test))\n",
    "\n",
    "# Random Forest\n",
    "text_clf_RanFor = Pipeline([('vect', CountVectorizer(ngram_range=(1, 1))), ('tfidf', TfidfTransformer(use_idf=True)),\n",
    "                         ('clf-RanFor', RandomForestClassifier(n_estimators=10))])\n",
    "\n",
    "text_clf_RanFor = text_clf_RanFor.fit(X_train, y_train)\n",
    "predicted_RanFor = text_clf_RanFor.predict(X_test)\n",
    "print(\"Random Forest score: \" + np.mean(predicted_RanFor == y_test)\n",
    "\n",
    "# Log regression\n",
    "text_clf_LogReg = Pipeline([('vect', CountVectorizer(ngram_range=(1, 1))), ('tfidf', TfidfTransformer(use_idf=True)),\n",
    "                         ('clf-logreg', LogisticRegression())])\n",
    "\n",
    "text_clf_LogReg = text_clf_LogReg.fit(X_train, y_train)\n",
    "predicted_LogReg = text_clf_LogReg.predict(X_test)\n",
    "print(\"Logistic Regression score: \" + np.mean(predicted_LogReg == y_test))\n",
    "\n",
    "# KNN\n",
    "text_clf_knn = Pipeline([('vect', CountVectorizer(ngram_range=(1, 1))), ('tfidf', TfidfTransformer(use_idf=True)),\n",
    "                         ('clf-knn', KNeighborsClassifier(n_neighbors=10, algorithm=\"auto\"))])\n",
    "\n",
    "text_clf_knn = text_clf_knn.fit(X_train, y_train)\n",
    "predicted_LogReg = text_clf_knn.predict(X_test)\n",
    "print(\"KNN score: \" + np.mean(predicted_LogReg == y_test))\n",
    "\n",
    "\n",
    "\n",
    "# parameters = {'vect__ngram_range': [(1, 1), (1, 2), (1, 3), (1, 4)], 'tfidf__use_idf': (True, False)}\n",
    "\n",
    "# text_clf_logreg = GridSearchCV(text_clf_LogReg, parameters, n_jobs=-1)\n",
    "# text_clf_logreg = text_clf_logreg.fit(X_train, y_train)\n",
    "\n",
    "# print(\"Logistic Regression grid search score: \" + gs_clf.best_score_))\n",
    "# print(\"Logistic Regression grid search parameters: \" + gs_clf.best_params_))\n",
    "\n",
    "\n",
    "# parameters = {'vect__ngram_range': [(1, 1), (1, 2), (1, 3), (1, 4)], 'tfidf__use_idf': (True, False), 'clf__alpha': (1e-2, 1e-3)}\n",
    "\n",
    "# gs_clf = GridSearchCV(text_clf, parameters, n_jobs=-1)\n",
    "# gs_clf = gs_clf.fit(X_train, y_train)\n",
    "\n",
    "# print(\"gs_clf.best_score_)\n",
    "# print(gs_clf.best_params_)\n",
    "\n",
    "# parameters_svm = {'vect__ngram_range': [(1, 1), (1, 2), (1, 3), (1, 4)], 'tfidf__use_idf': (True, False),'clf-svm__alpha': (1e-2, 1e-3)}\n",
    "\n",
    "# gs_clf_svm = GridSearchCV(text_clf_svm, parameters_svm, n_jobs=-1)\n",
    "# gs_clf_svm = gs_clf_svm.fit(X_train, y_train)\n",
    "\n",
    "\n",
    "# print(gs_clf_svm.best_score_)\n",
    "# print(gs_clf_svm.best_params_)\n",
    "\n",
    "\n",
    "# Parameter-adjusted SDG-SVM\n",
    "text_clf_svm = Pipeline([('vect', CountVectorizer(ngram_range=(1, 2))), ('tfidf', TfidfTransformer(use_idf=True)),\n",
    "                         ('clf-svm', SGDClassifier(loss='hinge', penalty='l2',alpha=.001, n_iter=4, random_state=42))])\n",
    "\n",
    "text_clf_svm = text_clf_svm.fit(X_train, y_train)\n",
    "predicted_svm = text_clf_svm.predict(X_test)\n",
    "print(\"Parameter-adjusted SGD-SVM score: \" + np.mean(predicted_svm == y_test))"
   ]
  },
  {
   "cell_type": "code",
   "execution_count": 8,
   "metadata": {},
   "outputs": [
    {
     "name": "stdout",
     "output_type": "stream",
     "text": [
      "(13585,) (13585,)\n"
     ]
    }
   ],
   "source": [
    "X = df[\"Quotes\"].values.astype('U')\n",
    "y = df[\"show\"].values.astype('U')\n",
    "print(X.shape, y.shape)"
   ]
  },
  {
   "cell_type": "code",
   "execution_count": 9,
   "metadata": {},
   "outputs": [],
   "source": [
    "X_train, X_test, y_train, y_test = train_test_split(X, y, random_state=42)"
   ]
  },
  {
   "cell_type": "code",
   "execution_count": 10,
   "metadata": {},
   "outputs": [
    {
     "data": {
      "text/plain": [
       "array(['Who at this table knows?', 'I was their dealer. Live with it.',\n",
       "       'wow!  you made the front page!', ...,\n",
       "       \"well, it's not quite a mop, and it's not quite a puppet, but\",\n",
       "       'Destroyed Then where are we now',\n",
       "       \"it's a crane.  the japanese believe they bring good luck.  [hands the\"],\n",
       "      dtype='<U1597')"
      ]
     },
     "execution_count": 10,
     "metadata": {},
     "output_type": "execute_result"
    }
   ],
   "source": [
    "X_train"
   ]
  },
  {
   "cell_type": "code",
   "execution_count": 11,
   "metadata": {},
   "outputs": [
    {
     "data": {
      "text/plain": [
       "array(['west_wing', 'west_wing', 'simpsons', ..., 'simpsons', 'futurama',\n",
       "       'simpsons'], dtype='<U9')"
      ]
     },
     "execution_count": 11,
     "metadata": {},
     "output_type": "execute_result"
    }
   ],
   "source": [
    "y_train"
   ]
  },
  {
   "cell_type": "code",
   "execution_count": 32,
   "metadata": {},
   "outputs": [
    {
     "name": "stdout",
     "output_type": "stream",
     "text": [
      "Naive Bayesian score: 0.7135707977627318\n"
     ]
    }
   ],
   "source": [
    "#  Naive Bayesian\n",
    "text_clf = Pipeline([('vect', CountVectorizer(stop_words=\"english\")), ('tfidf', TfidfTransformer()), ('clf', MultinomialNB())])\n",
    "\n",
    "text_clf = text_clf.fit(X_train, y_train)\n",
    "predicted = text_clf.predict(X_test)\n",
    "print(\"Naive Bayesian score: \" + str(np.mean(predicted == y_test)))"
   ]
  },
  {
   "cell_type": "code",
   "execution_count": 33,
   "metadata": {},
   "outputs": [
    {
     "name": "stdout",
     "output_type": "stream",
     "text": [
      "SGD-SVM score: 0.7179864586399765\n"
     ]
    },
    {
     "name": "stderr",
     "output_type": "stream",
     "text": [
      "C:\\Users\\timot\\Anaconda3\\envs\\PythonData\\lib\\site-packages\\sklearn\\linear_model\\stochastic_gradient.py:117: DeprecationWarning: n_iter parameter is deprecated in 0.19 and will be removed in 0.21. Use max_iter and tol instead.\n",
      "  DeprecationWarning)\n"
     ]
    }
   ],
   "source": [
    "#  SGD-SVM\n",
    "text_clf_svm = Pipeline([('vect', CountVectorizer(stop_words=\"english\")), ('tfidf', TfidfTransformer()),\n",
    "                         ('clf-svm', SGDClassifier(loss='hinge', penalty='l2',alpha=1e-3, n_iter=5, random_state=42))])\n",
    "\n",
    "text_clf_svm = text_clf_svm.fit(X_train, y_train)\n",
    "predicted_svm = text_clf_svm.predict(X_test)\n",
    "print(\"SGD-SVM score: \" + str(np.mean(predicted_svm == y_test)))"
   ]
  },
  {
   "cell_type": "code",
   "execution_count": 34,
   "metadata": {},
   "outputs": [
    {
     "name": "stdout",
     "output_type": "stream",
     "text": [
      "Random Forest score: 0.6464527524286134\n"
     ]
    }
   ],
   "source": [
    "# Random Forest\n",
    "text_clf_RanFor = Pipeline([('vect', CountVectorizer(ngram_range=(1, 1))), ('tfidf', TfidfTransformer(use_idf=True)),\n",
    "                         ('clf-RanFor', RandomForestClassifier(n_estimators=10))])\n",
    "\n",
    "text_clf_RanFor = text_clf_RanFor.fit(X_train, y_train)\n",
    "predicted_RanFor = text_clf_RanFor.predict(X_test)\n",
    "print(\"Random Forest score: \" + str(np.mean(predicted_RanFor == y_test)))"
   ]
  },
  {
   "cell_type": "code",
   "execution_count": 35,
   "metadata": {},
   "outputs": [
    {
     "name": "stdout",
     "output_type": "stream",
     "text": [
      "Logistic Regression: 0.7329997056226082\n"
     ]
    }
   ],
   "source": [
    "# Log regression\n",
    "text_clf_LogReg = Pipeline([('vect', CountVectorizer(ngram_range=(1, 1))), ('tfidf', TfidfTransformer(use_idf=True)),\n",
    "                         ('clf-logreg', LogisticRegression())])\n",
    "\n",
    "text_clf_LogReg = text_clf_LogReg.fit(X_train, y_train)\n",
    "predicted_LogReg = text_clf_LogReg.predict(X_test)\n",
    "print(\"Logistic Regression score: \" + str(np.mean(predicted_LogReg == y_test)))"
   ]
  },
  {
   "cell_type": "code",
   "execution_count": 41,
   "metadata": {},
   "outputs": [
    {
     "name": "stdout",
     "output_type": "stream",
     "text": [
      "KNN score: 0.04356785398881366\n"
     ]
    }
   ],
   "source": [
    "# KNN\n",
    "text_clf_knn = Pipeline([('vect', CountVectorizer(ngram_range=(1, 1))), ('tfidf', TfidfTransformer(use_idf=True)),\n",
    "                         ('clf-knn', KNeighborsClassifier(n_neighbors=10, algorithm=\"auto\"))])\n",
    "\n",
    "text_clf_knn = text_clf_knn.fit(X_train, y_train)\n",
    "predicted_LogReg = text_clf_knn.predict(X_test)\n",
    "print(\"KNN score: \" + str(np.mean(predicted_LogReg == y_test)))"
   ]
  },
  {
   "cell_type": "code",
   "execution_count": null,
   "metadata": {},
   "outputs": [],
   "source": []
  },
  {
   "cell_type": "code",
   "execution_count": 43,
   "metadata": {},
   "outputs": [
    {
     "name": "stdout",
     "output_type": "stream",
     "text": [
      "Naive Bayesian Grid Search:\n",
      "0.7188849627012172\n",
      "{'clf__alpha': 0.01, 'tfidf__use_idf': False, 'vect__ngram_range': (1, 2)}\n"
     ]
    }
   ],
   "source": [
    "parameters = {'vect__ngram_range': [(1, 1), (1, 2), (1, 3), (1, 4)], 'tfidf__use_idf': (True, False), 'clf__alpha': (1e-2, 1e-3)}\n",
    "\n",
    "gs_clf = GridSearchCV(text_clf, parameters, n_jobs=-1)\n",
    "gs_clf = gs_clf.fit(X_train, y_train)\n",
    "\n",
    "print(\"Naive Bayesian Grid Search:\")\n",
    "print(gs_clf.best_score_)\n",
    "print(gs_clf.best_params_)"
   ]
  },
  {
   "cell_type": "code",
   "execution_count": 44,
   "metadata": {},
   "outputs": [
    {
     "name": "stdout",
     "output_type": "stream",
     "text": [
      "SGD-SVM Grid Search:\n",
      "0.7021986650961916\n",
      "{'clf-svm__alpha': 0.001, 'tfidf__use_idf': True, 'vect__ngram_range': (1, 3)}\n"
     ]
    },
    {
     "name": "stderr",
     "output_type": "stream",
     "text": [
      "C:\\Users\\timot\\Anaconda3\\envs\\PythonData\\lib\\site-packages\\sklearn\\linear_model\\stochastic_gradient.py:117: DeprecationWarning: n_iter parameter is deprecated in 0.19 and will be removed in 0.21. Use max_iter and tol instead.\n",
      "  DeprecationWarning)\n"
     ]
    }
   ],
   "source": [
    "parameters_svm = {'vect__ngram_range': [(1, 1), (1, 2), (1, 3), (1, 4)], 'tfidf__use_idf': (True, False),'clf-svm__alpha': (1e-2, 1e-3)}\n",
    "\n",
    "gs_clf_svm = GridSearchCV(text_clf_svm, parameters_svm, n_jobs=-1)\n",
    "gs_clf_svm = gs_clf_svm.fit(X_train, y_train)\n",
    "\n",
    "\n",
    "print(\"SGD-SVM Grid Search:\")\n",
    "print(gs_clf_svm.best_score_)\n",
    "print(gs_clf_svm.best_params_)"
   ]
  },
  {
   "cell_type": "code",
   "execution_count": null,
   "metadata": {},
   "outputs": [],
   "source": []
  },
  {
   "cell_type": "code",
   "execution_count": 46,
   "metadata": {},
   "outputs": [
    {
     "name": "stdout",
     "output_type": "stream",
     "text": [
      "Parameter-adjusted SGD-SVM:\n"
     ]
    },
    {
     "name": "stderr",
     "output_type": "stream",
     "text": [
      "C:\\Users\\timot\\Anaconda3\\envs\\PythonData\\lib\\site-packages\\sklearn\\linear_model\\stochastic_gradient.py:117: DeprecationWarning: n_iter parameter is deprecated in 0.19 and will be removed in 0.21. Use max_iter and tol instead.\n",
      "  DeprecationWarning)\n"
     ]
    },
    {
     "data": {
      "text/plain": [
       "0.7026788342655285"
      ]
     },
     "execution_count": 46,
     "metadata": {},
     "output_type": "execute_result"
    }
   ],
   "source": [
    "# Parameter-adjusted SGD-SVM\n",
    "text_clf_svm = Pipeline([('vect', CountVectorizer(ngram_range=(1, 2))), ('tfidf', TfidfTransformer(use_idf=True)),\n",
    "                         ('clf-svm', SGDClassifier(loss='hinge', penalty='l2',alpha=.001, n_iter=4, random_state=42))])\n",
    "\n",
    "print(\"Parameter-adjusted SGD-SVM:\")\n",
    "text_clf_svm = text_clf_svm.fit(X_train, y_train)\n",
    "predicted_svm = text_clf_svm.predict(X_test)\n",
    "np.mean(predicted_svm == y_test)"
   ]
  },
  {
   "cell_type": "code",
   "execution_count": null,
   "metadata": {},
   "outputs": [],
   "source": [
    "df"
   ]
  },
  {
   "cell_type": "code",
   "execution_count": null,
   "metadata": {},
   "outputs": [],
   "source": []
  },
  {
   "cell_type": "code",
   "execution_count": null,
   "metadata": {},
   "outputs": [],
   "source": []
  },
  {
   "cell_type": "code",
   "execution_count": 88,
   "metadata": {},
   "outputs": [],
   "source": [
    "\n",
    "def ML_Algs(show):\n",
    "    \n",
    "    NB_results = []\n",
    "    SVM_results = [] \n",
    "    RanFor_results = []\n",
    "    LogReg_results = [] \n",
    "    KNN_results = []\n",
    "    \n",
    "    for i in show:\n",
    "        print(f\"Current CSV: {i}\")\n",
    "\n",
    "        df = pd.read_csv(i)\n",
    "        # del df[\"Unnamed: 0.1\"]\n",
    "        del df[\"Unnamed: 0\"]\n",
    "\n",
    "        X = df[\"Quotes\"].values.astype('U')\n",
    "        y = df[\"Characters\"].values.astype('U')\n",
    "\n",
    "        X_train, X_test, y_train, y_test = train_test_split(X, y, random_state=42)\n",
    "\n",
    "\n",
    "        #  Naive Bayesian\n",
    "        text_clf = Pipeline([('vect', CountVectorizer(stop_words=\"english\")), ('tfidf', TfidfTransformer()), ('clf', MultinomialNB())])\n",
    "\n",
    "        text_clf = text_clf.fit(X_train, y_train)\n",
    "        predicted = text_clf.predict(X_test)\n",
    "        NB_score = np.mean(predicted == y_test)\n",
    "        NB_results.append(NB_score)\n",
    "        print(\"Naive Bayesian score : \" + str(NB_score))\n",
    "\n",
    "\n",
    "        #  SGD-SVM\n",
    "        text_clf_svm = Pipeline([('vect', CountVectorizer(stop_words=\"english\")), ('tfidf', TfidfTransformer()),\n",
    "                                 ('clf-svm', SGDClassifier(loss='hinge', penalty='l2',alpha=1e-3, n_iter=5, random_state=42))])\n",
    "\n",
    "        text_clf_svm = text_clf_svm.fit(X_train, y_train)\n",
    "        predicted_svm = text_clf_svm.predict(X_test)\n",
    "        SVM_score = np.mean(predicted_svm == y_test)\n",
    "        SVM_results.append(SVM_score)\n",
    "        print(\"SGD-SVM score for: \" + str(SVM_score))\n",
    "\n",
    "        # Random Forest\n",
    "        text_clf_RanFor = Pipeline([('vect', CountVectorizer(ngram_range=(1, 1))), ('tfidf', TfidfTransformer(use_idf=True)),\n",
    "                                 ('clf-RanFor', RandomForestClassifier(n_estimators=10))])\n",
    "\n",
    "        text_clf_RanFor = text_clf_RanFor.fit(X_train, y_train)\n",
    "        predicted_RanFor = text_clf_RanFor.predict(X_test)\n",
    "        RanFor_score = np.mean(predicted_RanFor == y_test)\n",
    "        RanFor_results.append(RanFor_score)\n",
    "        print(\"Random Forest score: \" + str(RanFor_score))\n",
    "\n",
    "        # Log regression\n",
    "        text_clf_LogReg = Pipeline([('vect', CountVectorizer(ngram_range=(1, 1))), ('tfidf', TfidfTransformer(use_idf=True)),\n",
    "                                 ('clf-logreg', LogisticRegression())])\n",
    "\n",
    "        text_clf_LogReg = text_clf_LogReg.fit(X_train, y_train)\n",
    "        predicted_LogReg = text_clf_LogReg.predict(X_test)\n",
    "        LogReg_score = np.mean(predicted_LogReg == y_test)\n",
    "        LogReg_results.append(LogReg_score)\n",
    "        print(\"Logistic Regression score: \" + str(LogReg_score))\n",
    "\n",
    "        # KNN\n",
    "        text_clf_knn = Pipeline([('vect', CountVectorizer(ngram_range=(1, 1))), ('tfidf', TfidfTransformer(use_idf=True)),\n",
    "                                 ('clf-knn', KNeighborsClassifier(n_neighbors=10, algorithm=\"auto\"))])\n",
    "\n",
    "        text_clf_knn = text_clf_knn.fit(X_train, y_train)\n",
    "        predicted_LogReg = text_clf_knn.predict(X_test)\n",
    "        KNN_score = np.mean(predicted_LogReg == y_test)\n",
    "        KNN_results.append(KNN_score)\n",
    "        print(\"KNN score: \" + str(KNN_score))\n",
    "        \n",
    "        \n",
    "        print(\"\")\n",
    "        print(\"\")"
   ]
  },
  {
   "cell_type": "code",
   "execution_count": 89,
   "metadata": {},
   "outputs": [
    {
     "name": "stdout",
     "output_type": "stream",
     "text": [
      "Current CSV: futurama/2ch_futurama.csv\n",
      "Naive Bayesian score : 0.5938967136150235\n",
      "SGD-SVM score for: 0.581377151799687\n"
     ]
    },
    {
     "name": "stderr",
     "output_type": "stream",
     "text": [
      "C:\\Users\\timot\\Anaconda3\\envs\\PythonData\\lib\\site-packages\\sklearn\\linear_model\\stochastic_gradient.py:117: DeprecationWarning: n_iter parameter is deprecated in 0.19 and will be removed in 0.21. Use max_iter and tol instead.\n",
      "  DeprecationWarning)\n"
     ]
    },
    {
     "name": "stdout",
     "output_type": "stream",
     "text": [
      "Random Forest score: 0.5868544600938967\n",
      "Logistic Regression score: 0.6314553990610329\n",
      "KNN score: 0.5868544600938967\n",
      "\n",
      "\n",
      "Current CSV: futurama/4ch_futurama.csv\n",
      "Naive Bayesian score : 0.43717047451669594\n"
     ]
    },
    {
     "name": "stderr",
     "output_type": "stream",
     "text": [
      "C:\\Users\\timot\\Anaconda3\\envs\\PythonData\\lib\\site-packages\\sklearn\\linear_model\\stochastic_gradient.py:117: DeprecationWarning: n_iter parameter is deprecated in 0.19 and will be removed in 0.21. Use max_iter and tol instead.\n",
      "  DeprecationWarning)\n"
     ]
    },
    {
     "name": "stdout",
     "output_type": "stream",
     "text": [
      "SGD-SVM score for: 0.4679261862917399\n",
      "Random Forest score: 0.3804920913884007\n",
      "Logistic Regression score: 0.4710017574692443\n",
      "KNN score: 0.3945518453427065\n",
      "\n",
      "\n",
      "Current CSV: futurama/6ch_futurama.csv\n",
      "Naive Bayesian score : 0.36115384615384616\n"
     ]
    },
    {
     "name": "stderr",
     "output_type": "stream",
     "text": [
      "C:\\Users\\timot\\Anaconda3\\envs\\PythonData\\lib\\site-packages\\sklearn\\linear_model\\stochastic_gradient.py:117: DeprecationWarning: n_iter parameter is deprecated in 0.19 and will be removed in 0.21. Use max_iter and tol instead.\n",
      "  DeprecationWarning)\n"
     ]
    },
    {
     "name": "stdout",
     "output_type": "stream",
     "text": [
      "SGD-SVM score for: 0.3992307692307692\n",
      "Random Forest score: 0.3192307692307692\n",
      "Logistic Regression score: 0.39615384615384613\n",
      "KNN score: 0.34615384615384615\n",
      "\n",
      "\n",
      "Current CSV: futurama/8ch_futurama.csv\n",
      "Naive Bayesian score : 0.3346167308365418\n"
     ]
    },
    {
     "name": "stderr",
     "output_type": "stream",
     "text": [
      "C:\\Users\\timot\\Anaconda3\\envs\\PythonData\\lib\\site-packages\\sklearn\\linear_model\\stochastic_gradient.py:117: DeprecationWarning: n_iter parameter is deprecated in 0.19 and will be removed in 0.21. Use max_iter and tol instead.\n",
      "  DeprecationWarning)\n"
     ]
    },
    {
     "name": "stdout",
     "output_type": "stream",
     "text": [
      "SGD-SVM score for: 0.36856842842142107\n",
      "Random Forest score: 0.2996149807490375\n",
      "Logistic Regression score: 0.3657682884144207\n",
      "KNN score: 0.3307665383269163\n",
      "\n",
      "\n"
     ]
    }
   ],
   "source": [
    "ML_Algs(paths[\"futurama\"])"
   ]
  },
  {
   "cell_type": "code",
   "execution_count": 111,
   "metadata": {},
   "outputs": [
    {
     "name": "stdout",
     "output_type": "stream",
     "text": [
      "Current CSV: combined/3ch_combined.csv\n",
      "Naive Bayesian score : 0.7282972890648797\n"
     ]
    },
    {
     "name": "stderr",
     "output_type": "stream",
     "text": [
      "C:\\Users\\timot\\Anaconda3\\envs\\PythonData\\lib\\site-packages\\sklearn\\linear_model\\stochastic_gradient.py:117: DeprecationWarning: n_iter parameter is deprecated in 0.19 and will be removed in 0.21. Use max_iter and tol instead.\n",
      "  DeprecationWarning)\n"
     ]
    },
    {
     "name": "stdout",
     "output_type": "stream",
     "text": [
      "SGD-SVM score for: 0.7124581175753883\n",
      "Random Forest score: 0.6838257691136156\n",
      "Logistic Regression score: 0.7420042643923241\n",
      "KNN score: 0.6475784343588181\n",
      "\n",
      "\n",
      "Current CSV: combined/4ch_combined.csv\n",
      "Naive Bayesian score : 0.7135707977627318\n"
     ]
    },
    {
     "name": "stderr",
     "output_type": "stream",
     "text": [
      "C:\\Users\\timot\\Anaconda3\\envs\\PythonData\\lib\\site-packages\\sklearn\\linear_model\\stochastic_gradient.py:117: DeprecationWarning: n_iter parameter is deprecated in 0.19 and will be removed in 0.21. Use max_iter and tol instead.\n",
      "  DeprecationWarning)\n"
     ]
    },
    {
     "name": "stdout",
     "output_type": "stream",
     "text": [
      "SGD-SVM score for: 0.7179864586399765\n",
      "Random Forest score: 0.6387989402413895\n",
      "Logistic Regression score: 0.7329997056226082\n",
      "KNN score: 0.044156608772446274\n",
      "\n",
      "\n"
     ]
    }
   ],
   "source": [
    "ML_Algs(paths[\"combined\"])"
   ]
  },
  {
   "cell_type": "code",
   "execution_count": null,
   "metadata": {},
   "outputs": [],
   "source": []
  },
  {
   "cell_type": "code",
   "execution_count": null,
   "metadata": {},
   "outputs": [],
   "source": []
  },
  {
   "cell_type": "code",
   "execution_count": null,
   "metadata": {},
   "outputs": [],
   "source": []
  },
  {
   "cell_type": "code",
   "execution_count": null,
   "metadata": {},
   "outputs": [],
   "source": []
  },
  {
   "cell_type": "code",
   "execution_count": null,
   "metadata": {},
   "outputs": [],
   "source": []
  },
  {
   "cell_type": "code",
   "execution_count": null,
   "metadata": {},
   "outputs": [],
   "source": []
  },
  {
   "cell_type": "code",
   "execution_count": null,
   "metadata": {},
   "outputs": [],
   "source": []
  },
  {
   "cell_type": "code",
   "execution_count": null,
   "metadata": {},
   "outputs": [],
   "source": []
  },
  {
   "cell_type": "code",
   "execution_count": null,
   "metadata": {},
   "outputs": [],
   "source": []
  },
  {
   "cell_type": "code",
   "execution_count": null,
   "metadata": {},
   "outputs": [],
   "source": []
  },
  {
   "cell_type": "code",
   "execution_count": null,
   "metadata": {},
   "outputs": [],
   "source": []
  },
  {
   "cell_type": "code",
   "execution_count": null,
   "metadata": {},
   "outputs": [],
   "source": []
  },
  {
   "cell_type": "code",
   "execution_count": 90,
   "metadata": {},
   "outputs": [
    {
     "data": {
      "text/plain": [
       "[0.5938967136150235,\n",
       " 0.43717047451669594,\n",
       " 0.36115384615384616,\n",
       " 0.3346167308365418]"
      ]
     },
     "execution_count": 90,
     "metadata": {},
     "output_type": "execute_result"
    }
   ],
   "source": [
    "NB_results"
   ]
  },
  {
   "cell_type": "code",
   "execution_count": 110,
   "metadata": {},
   "outputs": [
    {
     "data": {
      "text/plain": [
       "[<matplotlib.lines.Line2D at 0x1f12d14bc18>]"
      ]
     },
     "execution_count": 110,
     "metadata": {},
     "output_type": "execute_result"
    },
    {
     "data": {
      "image/png": "[encoded data removed]",
      "text/plain": [
       "<matplotlib.figure.Figure at 0x1f12d0edfd0>"
      ]
     },
     "metadata": {},
     "output_type": "display_data"
    }
   ],
   "source": [
    "plt.plot([\"2ch\", \"4ch\", \"6ch\", \"8ch\"], NB_results)"
   ]
  },
  {
   "cell_type": "code",
   "execution_count": 94,
   "metadata": {},
   "outputs": [
    {
     "data": {
      "text/plain": [
       "[<matplotlib.lines.Line2D at 0x1f123a79b00>]"
      ]
     },
     "execution_count": 94,
     "metadata": {},
     "output_type": "execute_result"
    },
    {
     "data": {
      "image/png": "[encoded data removed]",
      "text/plain": [
       "<matplotlib.figure.Figure at 0x1f123ca43c8>"
      ]
     },
     "metadata": {},
     "output_type": "display_data"
    }
   ],
   "source": [
    "plt.plot([\"2ch\", \"4ch\", \"6ch\", \"8ch\"], SVM_results)"
   ]
  },
  {
   "cell_type": "code",
   "execution_count": 95,
   "metadata": {},
   "outputs": [
    {
     "data": {
      "text/plain": [
       "[<matplotlib.lines.Line2D at 0x1f123baad68>]"
      ]
     },
     "execution_count": 95,
     "metadata": {},
     "output_type": "execute_result"
    },
    {
     "data": {
      "image/png": "[encoded data removed]",
      "text/plain": [
       "<matplotlib.figure.Figure at 0x1f123a5b438>"
      ]
     },
     "metadata": {},
     "output_type": "display_data"
    }
   ],
   "source": [
    "plt.plot([\"2ch\", \"4ch\", \"6ch\", \"8ch\"], RanFor_results)"
   ]
  },
  {
   "cell_type": "code",
   "execution_count": 96,
   "metadata": {},
   "outputs": [
    {
     "data": {
      "text/plain": [
       "[<matplotlib.lines.Line2D at 0x1f123cc0cc0>]"
      ]
     },
     "execution_count": 96,
     "metadata": {},
     "output_type": "execute_result"
    },
    {
     "data": {
      "image/png": "[encoded data removed]",
      "text/plain": [
       "<matplotlib.figure.Figure at 0x1f123bd7390>"
      ]
     },
     "metadata": {},
     "output_type": "display_data"
    }
   ],
   "source": [
    "plt.plot([\"2ch\", \"4ch\", \"6ch\", \"8ch\"], LogReg_results)"
   ]
  },
  {
   "cell_type": "code",
   "execution_count": 97,
   "metadata": {},
   "outputs": [
    {
     "data": {
      "text/plain": [
       "[<matplotlib.lines.Line2D at 0x1f123b3c400>]"
      ]
     },
     "execution_count": 97,
     "metadata": {},
     "output_type": "execute_result"
    },
    {
     "data": {
      "image/png": "[encoded data removed]",
      "text/plain": [
       "<matplotlib.figure.Figure at 0x1f123cc55f8>"
      ]
     },
     "metadata": {},
     "output_type": "display_data"
    }
   ],
   "source": [
    "plt.plot([\"2ch\", \"4ch\", \"6ch\", \"8ch\"], KNN_results)"
   ]
  },
  {
   "cell_type": "code",
   "execution_count": null,
   "metadata": {},
   "outputs": [],
   "source": []
  },
  {
   "cell_type": "code",
   "execution_count": null,
   "metadata": {},
   "outputs": [],
   "source": []
  },
  {
   "cell_type": "code",
   "execution_count": null,
   "metadata": {},
   "outputs": [],
   "source": []
  },
  {
   "cell_type": "code",
   "execution_count": null,
   "metadata": {},
   "outputs": [],
   "source": []
  },
  {
   "cell_type": "code",
   "execution_count": null,
   "metadata": {},
   "outputs": [],
   "source": [
    "# def corpus_builder(dataframe):\n",
    "    \n",
    "#     num_of_char = len(dataframe[\"Characters\"].unique())\n",
    "    \n",
    "#     X = df[\"Quotes\"].values.astype('U')\n",
    "#     y = df[\"Characters\"].values.astype('U')\n",
    "    \n",
    "#     X_train, X_test, y_train, y_test = train_test_split(X, y, random_state=4)\n",
    "    \n",
    "#     df_train = pd.DataFrame({\"Quotes\" : X_train, \"Characters\" : y_train})\n",
    "#     df_test = pd.DataFrame({\"Quotes\" : X_test, \"Characters\" : y_test})\n",
    "    \n",
    "    \n",
    "    \n",
    "#     corpi_train_quotes = []\n",
    "#     corpi_train_chars = []\n",
    "\n",
    "#     corpi_test_quotes = []\n",
    "#     corpi_test_chars = []\n",
    "\n",
    "    \n",
    "    \n",
    "#     for i in range(num_of_char):\n",
    "#         loop_char = dataframe[\"Characters\"].unique()[i]\n",
    "#         corpi_train_chars.append(loop_char)\n",
    "#         corpi_test_chars.append(loop_char)\n",
    "        \n",
    "#         loop_corpus_train = df_train.loc[df_train.Characters == loop_char]\n",
    "#         loop_corpus_test = df_test[df.Characters == loop_char]\n",
    "        \n",
    "#         loop_corpi_train_list = []\n",
    "#         loop_corpi_test_list = []\n",
    "\n",
    "        \n",
    "#         for j in loop_corpus_train[\"Quotes\"]:\n",
    "#             loop_corpi_train_list.append(j)\n",
    "            \n",
    "#         for k in loop_corpus_test[\"Quotes\"]:\n",
    "#             loop_corpi_test_list.append(k)\n",
    "            \n",
    "#         loop_corpus_train = \" \".join(loop_corpi_train_list)\n",
    "#         loop_corpus_test = \" \".join(loop_corpi_test_list)\n",
    "        \n",
    "#         corpi_train_quotes.append(loop_corpus_train)\n",
    "#         corpi_test_quotes.append(loop_corpus_test)\n",
    "        \n",
    "#     corpi_train_quotes = np.asarray(corpi_train_quotes)\n",
    "#     corpi_train_chars = np.asarray(corpi_train_chars)\n",
    "#     corpi_test_quotes = np.asarray(corpi_test_quotes)\n",
    "#     corpi_test_chars = np.asarray(corpi_test_chars)\n",
    "        \n",
    "    \n",
    "#     return corpi_train_quotes, corpi_train_chars, corpi_test_quotes, corpi_test_chars"
   ]
  },
  {
   "cell_type": "code",
   "execution_count": null,
   "metadata": {},
   "outputs": [],
   "source": [
    "# X_train, y_train, X_test, y_test = corpus_builder(df)"
   ]
  }
 ],
 "metadata": {
  "kernelspec": {
   "display_name": "Python 3",
   "language": "python",
   "name": "python3"
  },
  "language_info": {
   "codemirror_mode": {
    "name": "ipython",
    "version": 3
   },
   "file_extension": ".py",
   "mimetype": "text/x-python",
   "name": "python",
   "nbconvert_exporter": "python",
   "pygments_lexer": "ipython3",
   "version": "3.6.4"
  }
 },
 "nbformat": 4,
 "nbformat_minor": 2
}
