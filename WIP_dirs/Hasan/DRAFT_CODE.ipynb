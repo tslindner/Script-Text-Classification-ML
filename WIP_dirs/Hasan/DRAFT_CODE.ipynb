{
 "cells": [
  {
   "cell_type": "code",
   "execution_count": 1,
   "metadata": {},
   "outputs": [],
   "source": [
    "# source: https://www.youtube.com/watch?v=RZYjsw6P4nI\n",
    "\n",
    "#Data Source: https://archive.ics.uci.edu/ml/machine-learning-databases/00228/"
   ]
  },
  {
   "cell_type": "code",
   "execution_count": 2,
   "metadata": {},
   "outputs": [
    {
     "name": "stderr",
     "output_type": "stream",
     "text": [
      "C:\\Users\\hakhalid\\AppData\\Local\\Continuum\\anaconda3\\lib\\site-packages\\sklearn\\cross_validation.py:41: DeprecationWarning: This module was deprecated in version 0.18 in favor of the model_selection module into which all the refactored classes and functions are moved. Also note that the interface of the new CV iterators are different from that of this module. This module will be removed in 0.20.\n",
      "  \"This module will be removed in 0.20.\", DeprecationWarning)\n"
     ]
    }
   ],
   "source": [
    "#Dependencies\n",
    "import numpy as np\n",
    "import pandas as pd\n",
    "from sklearn.feature_extraction.text import CountVectorizer\n",
    "from sklearn.cross_validation import train_test_split\n",
    "from sklearn.naive_bayes import MultinomialNB"
   ]
  },
  {
   "cell_type": "code",
   "execution_count": 3,
   "metadata": {},
   "outputs": [],
   "source": [
    "#Read the CSV\n",
    "df=pd.read_csv('output_tv.csv')\n",
    "df = df.drop([\"Unnamed: 0\"], axis=1)"
   ]
  },
  {
   "cell_type": "code",
   "execution_count": 4,
   "metadata": {},
   "outputs": [
    {
     "data": {
      "text/html": [
       "<div>\n",
       "<style scoped>\n",
       "    .dataframe tbody tr th:only-of-type {\n",
       "        vertical-align: middle;\n",
       "    }\n",
       "\n",
       "    .dataframe tbody tr th {\n",
       "        vertical-align: top;\n",
       "    }\n",
       "\n",
       "    .dataframe thead th {\n",
       "        text-align: right;\n",
       "    }\n",
       "</style>\n",
       "<table border=\"1\" class=\"dataframe\">\n",
       "  <thead>\n",
       "    <tr style=\"text-align: right;\">\n",
       "      <th></th>\n",
       "      <th>Quotes</th>\n",
       "    </tr>\n",
       "    <tr>\n",
       "      <th>Characters</th>\n",
       "      <th></th>\n",
       "    </tr>\n",
       "  </thead>\n",
       "  <tbody>\n",
       "    <tr>\n",
       "      <th>Fry</th>\n",
       "      <td>3996</td>\n",
       "    </tr>\n",
       "    <tr>\n",
       "      <th>Bender</th>\n",
       "      <td>3704</td>\n",
       "    </tr>\n",
       "    <tr>\n",
       "      <th>Leela</th>\n",
       "      <td>3186</td>\n",
       "    </tr>\n",
       "    <tr>\n",
       "      <th>Farnsworth</th>\n",
       "      <td>1553</td>\n",
       "    </tr>\n",
       "    <tr>\n",
       "      <th>Zoidberg</th>\n",
       "      <td>987</td>\n",
       "    </tr>\n",
       "    <tr>\n",
       "      <th>Amy</th>\n",
       "      <td>930</td>\n",
       "    </tr>\n",
       "    <tr>\n",
       "      <th>Hermes</th>\n",
       "      <td>862</td>\n",
       "    </tr>\n",
       "    <tr>\n",
       "      <th>Zapp</th>\n",
       "      <td>503</td>\n",
       "    </tr>\n",
       "    <tr>\n",
       "      <th>Professor Farnsworth</th>\n",
       "      <td>284</td>\n",
       "    </tr>\n",
       "    <tr>\n",
       "      <th>Kif</th>\n",
       "      <td>254</td>\n",
       "    </tr>\n",
       "  </tbody>\n",
       "</table>\n",
       "</div>"
      ],
      "text/plain": [
       "                      Quotes\n",
       "Characters                  \n",
       "Fry                     3996\n",
       "Bender                  3704\n",
       "Leela                   3186\n",
       "Farnsworth              1553\n",
       "Zoidberg                 987\n",
       "Amy                      930\n",
       "Hermes                   862\n",
       "Zapp                     503\n",
       "Professor Farnsworth     284\n",
       "Kif                      254"
      ]
     },
     "execution_count": 4,
     "metadata": {},
     "output_type": "execute_result"
    }
   ],
   "source": [
    "#Show the dataframe preview\n",
    "df.groupby(\"Characters\").count().sort_values(by=\"Quotes\", ascending=False).head(10)"
   ]
  },
  {
   "cell_type": "code",
   "execution_count": 5,
   "metadata": {},
   "outputs": [
    {
     "data": {
      "text/plain": [
       "25243"
      ]
     },
     "execution_count": 5,
     "metadata": {},
     "output_type": "execute_result"
    }
   ],
   "source": [
    "#Length of the dataset\n",
    "len(df)"
   ]
  },
  {
   "cell_type": "code",
   "execution_count": 6,
   "metadata": {},
   "outputs": [],
   "source": [
    "#Length of each character\n",
    "# len(df[df.Characters=='Fry'])"
   ]
  },
  {
   "cell_type": "code",
   "execution_count": 7,
   "metadata": {},
   "outputs": [],
   "source": [
    "#Length of each character\n",
    "# len(df[df.Characters=='Boy'])"
   ]
  },
  {
   "cell_type": "code",
   "execution_count": 8,
   "metadata": {},
   "outputs": [],
   "source": [
    "#Assigning Characters a number\n",
    "df.loc[df[\"Characters\"]=='Fry',\"Characters\",]=0\n",
    "df.loc[df[\"Characters\"]=='Bender',\"Characters\",]=1\n",
    "df.loc[df[\"Characters\"]=='Leela',\"Characters\",]=2\n",
    "df.loc[df[\"Characters\"]=='Farnsworth',\"Characters\",]=3\n",
    "df.loc[df[\"Characters\"]=='Zoidberg',\"Characters\",]=4\n",
    "df.loc[df[\"Characters\"]=='Amy',\"Characters\",]=5\n",
    "df.loc[df[\"Characters\"]=='Hermes',\"Characters\",]=6\n",
    "df.loc[df[\"Characters\"]=='Zapp',\"Characters\",]=7\n",
    "df.loc[df[\"Characters\"]=='Professor Farnsworth',\"Characters\",]=8\n",
    "df.loc[df[\"Characters\"]=='Kif',\"Characters\",]=9\n",
    "df.loc[df[\"Characters\"]=='Mom',\"Characters\",]=10\n",
    "df.loc[df[\"Characters\"]=='Calculon',\"Characters\",]=11\n",
    "df.loc[df[\"Characters\"]=='Nixon',\"Characters\",]=12\n",
    "df.loc[df[\"Characters\"]=='Cubert',\"Characters\",]=13\n",
    "df.loc[df[\"Characters\"]=='Lrrr',\"Characters\",]=14\n",
    "df.loc[df[\"Characters\"]=='Nibbler',\"Characters\",]=15\n",
    "df.loc[df[\"Characters\"]=='Robot Devil',\"Characters\",]=16\n",
    "df.loc[df[\"Characters\"]=='Mr. Wong',\"Characters\",]=17\n",
    "df.loc[df[\"Characters\"]=='Morbo',\"Characters\",]=18\n",
    "df.loc[df[\"Characters\"]=='Dwight',\"Characters\",]=19\n",
    "df.loc[df[\"Characters\"]=='Linda',\"Characters\",]=20\n",
    "df.loc[df[\"Characters\"]=='URL',\"Characters\",]=21\n",
    "df.loc[df[\"Characters\"]=='Elzar',\"Characters\",]=22\n",
    "df.loc[df[\"Characters\"]=='LaBarbara',\"Characters\",]=23\n",
    "df.loc[df[\"Characters\"]=='Scruffy',\"Characters\",]=24\n",
    "df.loc[df[\"Characters\"]=='Man',\"Characters\",]=25\n",
    "df.loc[df[\"Characters\"]=='Wernstorm',\"Characters\",]=26\n",
    "df.loc[df[\"Characters\"]=='Sal',\"Characters\",]=27\n",
    "df.loc[df[\"Characters\"]=='Nudar',\"Characters\",]=28\n",
    "df.loc[df[\"Characters\"]=='Walt',\"Characters\",]=29\n",
    "\n",
    "# I feel like we should only keep the top 10"
   ]
  },
  {
   "cell_type": "code",
   "execution_count": 9,
   "metadata": {},
   "outputs": [],
   "source": [
    "#df"
   ]
  },
  {
   "cell_type": "code",
   "execution_count": 10,
   "metadata": {},
   "outputs": [],
   "source": [
    "#Split the data and the result\n",
    "df_x=df[\"Quotes\"]\n",
    "df_y=df[\"Characters\"]"
   ]
  },
  {
   "cell_type": "code",
   "execution_count": 11,
   "metadata": {},
   "outputs": [],
   "source": [
    "# Split the test and the training data\n",
    "x_train, x_test, y_train, y_test = train_test_split(df_x, df_y, test_size=0.2, random_state=4)"
   ]
  },
  {
   "cell_type": "code",
   "execution_count": 12,
   "metadata": {},
   "outputs": [],
   "source": [
    "# Convert a collection of text documents to a matrix of token counts\n",
    "cv = CountVectorizer()"
   ]
  },
  {
   "cell_type": "code",
   "execution_count": 13,
   "metadata": {},
   "outputs": [
    {
     "ename": "TypeError",
     "evalue": "fit_transform() missing 1 required positional argument: 'raw_documents'",
     "output_type": "error",
     "traceback": [
      "\u001b[1;31m---------------------------------------------------------------------------\u001b[0m",
      "\u001b[1;31mTypeError\u001b[0m                                 Traceback (most recent call last)",
      "\u001b[1;32m<ipython-input-13-b2429424b239>\u001b[0m in \u001b[0;36m<module>\u001b[1;34m()\u001b[0m\n\u001b[1;32m----> 1\u001b[1;33m \u001b[0mx_traincv\u001b[0m \u001b[1;33m=\u001b[0m \u001b[0mcv\u001b[0m\u001b[1;33m.\u001b[0m\u001b[0mfit_transform\u001b[0m\u001b[1;33m(\u001b[0m\u001b[1;33m)\u001b[0m\u001b[1;33m\u001b[0m\u001b[0m\n\u001b[0m",
      "\u001b[1;31mTypeError\u001b[0m: fit_transform() missing 1 required positional argument: 'raw_documents'"
     ]
    }
   ],
   "source": [
    "x_traincv = cv.fit_transform()"
   ]
  },
  {
   "cell_type": "code",
   "execution_count": null,
   "metadata": {},
   "outputs": [],
   "source": []
  }
 ],
 "metadata": {
  "kernelspec": {
   "display_name": "Python 3",
   "language": "python",
   "name": "python3"
  },
  "language_info": {
   "codemirror_mode": {
    "name": "ipython",
    "version": 3
   },
   "file_extension": ".py",
   "mimetype": "text/x-python",
   "name": "python",
   "nbconvert_exporter": "python",
   "pygments_lexer": "ipython3",
   "version": "3.6.4"
  }
 },
 "nbformat": 4,
 "nbformat_minor": 2
}
